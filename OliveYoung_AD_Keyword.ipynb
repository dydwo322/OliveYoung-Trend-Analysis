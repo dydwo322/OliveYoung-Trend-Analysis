{
  "cells": [
    {
      "cell_type": "code",
      "execution_count": null,
      "metadata": {
        "id": "_W3zAtP5WjD-"
      },
      "outputs": [],
      "source": [
        "# 키워드 일치 여부 return 함수\n",
        "def esti_corpus(df,key, id):\n",
        "    key=key.split(',')\n",
        "    if len(key)==2:\n",
        "        for i in key:\n",
        "            if float(df[df['product_id']==id][i])<0.35:return False\n",
        "        return True\n",
        "    elif len(key)==3:\n",
        "        for i in key: \n",
        "            if float(df[df['product_id']==id][i])<0.25:return False\n",
        "        return True\n",
        "    else:\n",
        "        if float(df[df['product_id']==id][key[0]])>0.38:return True\n",
        "        else: return False"
      ]
    },
    {
      "cell_type": "code",
      "execution_count": null,
      "metadata": {
        "id": "0bWkXGRDWjEu"
      },
      "outputs": [],
      "source": [
        "# 제품별 상품 설명에 있는 키워드 & 제품 '보습,진정,자극' 키워드 비율 비교\n",
        "from numpy import inner\n",
        "import pandas as pd\n",
        "df_corpus=pd.read_csv('corpus_df.csv',encoding='utf-8-sig')\n",
        "df_ppl=pd.read_csv('ppl_words.csv',encoding='utf-8-sig')\n",
        "df_match=df_corpus.merge(df_ppl,how='inner',on='product_id')\n",
        "ppl_match=[]\n",
        "for i,row in df_match.iterrows():\n",
        "    ppl_match.append(esti_corpus(df_match, row['keyword'], row['product_id']))\n",
        "# print(ppl_match.count(False),ppl_match.count(True))\n",
        "\n",
        "df_match['match']=ppl_match\n",
        "df_match=df_match[['Unnamed: 0.1', 'Unnamed: 0', '0', 'product_id', '보습', '진정', '저자극','keyword',\n",
        "       'match','title', 'price', 'sale_price', 'dc_rate', 'Review_count',\n",
        "       'Review_point', 'skin_type1', 'skin_type2', 'skin_type3',\n",
        "       'skin_trouble1', 'skin_trouble2', 'skin_trouble3', 'skin_stim1',\n",
        "       'skin_stim2', 'skin_stim3', 'components', 'key_ingredient']]\n",
        "df_match.to_csv('comp_keyword_skinType.csv',encoding='utf-8-sig')\n"
      ]
    },
    {
      "cell_type": "code",
      "execution_count": null,
      "metadata": {
        "id": "1Sjf3MynWjFP",
        "outputId": "96e02bd8-b708-443a-e9b0-be041e76e225"
      },
      "outputs": [
        {
          "name": "stdout",
          "output_type": "stream",
          "text": [
            "71 12\n"
          ]
        }
      ],
      "source": [
        "print(ppl_match.count(False),ppl_match.count(True))"
      ]
    },
    {
      "cell_type": "code",
      "execution_count": null,
      "metadata": {
        "id": "rtiWuZgyWjFU"
      },
      "outputs": [],
      "source": []
    }
  ],
  "metadata": {
    "kernelspec": {
      "display_name": "Python 3.9.0 64-bit",
      "language": "python",
      "name": "python3"
    },
    "language_info": {
      "codemirror_mode": {
        "name": "ipython",
        "version": 3
      },
      "file_extension": ".py",
      "mimetype": "text/x-python",
      "name": "python",
      "nbconvert_exporter": "python",
      "pygments_lexer": "ipython3",
      "version": "3.9.0"
    },
    "orig_nbformat": 4,
    "vscode": {
      "interpreter": {
        "hash": "aee8b7b246df8f9039afb4144a1f6fd8d2ca17a180786b69acc140d282b71a49"
      }
    },
    "colab": {
      "provenance": []
    }
  },
  "nbformat": 4,
  "nbformat_minor": 0
}