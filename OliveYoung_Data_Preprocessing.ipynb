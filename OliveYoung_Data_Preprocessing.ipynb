{
  "nbformat": 4,
  "nbformat_minor": 0,
  "metadata": {
    "colab": {
      "provenance": []
    },
    "kernelspec": {
      "name": "python3",
      "display_name": "Python 3"
    },
    "language_info": {
      "name": "python"
    }
  },
  "cells": [
    {
      "cell_type": "markdown",
      "metadata": {
        "id": "sLvsHXZPZLnu"
      },
      "source": [
        "# **1.올리브영 댓글 전처리**"
      ]
    },
    {
      "cell_type": "code",
      "execution_count": null,
      "metadata": {
        "id": "OmcUT7ZQZLnv"
      },
      "outputs": [],
      "source": [
        "from konlpy.tag import Okt\n",
        "import re\n",
        "def preprocessing(text):\n",
        "    with open('stop_words.txt','r') as f:\n",
        "        stop_words = f.read().split(',')\n",
        "    okt = Okt()\n",
        "    rev_text=re.sub('[^가-힣\\\\s]','',text)\n",
        "    word_review = okt.pos(rev_text,stem=True)\n",
        "    word_review = [(token, pos) for token, pos in word_review if not token in stop_words and len(token)>1]\n",
        "    word_review = [token for token, pos in word_review if pos in ['Noun', 'Verb', 'Adjective']]\n",
        "    return word_review"
      ]
    },
    {
      "cell_type": "code",
      "execution_count": null,
      "metadata": {
        "id": "-2IyIbs8ZLnw",
        "outputId": "c0dae389-2d63-4162-ebbc-b4fe023965ac"
      },
      "outputs": [
        {
          "data": {
            "text/plain": [
              "<bound method NDFrame.head of                                                   text  \\\n",
              "0    정말 순하고 부드러운 토너예요\\n한번도 트러블 일으킨 적 없고, 오히려 트러블로 범...   \n",
              "1    좀 안맞는다는 생각이 들어서 자주사용하진 않지만 \\n좀 건조해요 ,, 겨울엔 못 쓸...   \n",
              "2    🍑내돈내산🍑\\n바이오더마 센시비오 토너!\\n전날 구입하고 하루 써보고 나서 같은 걸...   \n",
              "3    🍑내돈내산🍑\\n바이오더마 센시비오 토너 구입 후기입니당\\n\\n다들 많이 사용하고 있...   \n",
              "4           민감성피부입니다. 자극 없이 순해서 편하게 사용할 수 있어요. 정착템입니다.   \n",
              "..                                                 ...   \n",
              "950  원래쓰던거라서 계속쓰는데 진짜 순하고 좋아요. 친구추천으로 첨썼는데 피뷰자극도 덜하...   \n",
              "951  피부가 예민한 편이라 아무제품이나 쓰기가 무서웠는데 이 제품은 자극도 없고 순해서 ...   \n",
              "952     피부를 진정시키는데 짱인것같아요.\\n피부가 민감할때 스킨팩으로 쓰면 금방 진정됩니다   \n",
              "953  세일기간에 좋은제품 싸게 잘 샀습니다. 클렌징 워터도 잘 쓰고있는데. 토너도 처음 ...   \n",
              "954  피부의 좋은 변화는 못느꼈지만 뒤집어지지 않아서 그럭저럭 만족. 양이 적지만 닦토용...   \n",
              "\n",
              "                                                  word  score  \n",
              "0    정말,순하다,부드럽다,토너,한번,트러블,일으키다,적,없다,오히려,트러블,범벅,되다,...      1  \n",
              "1           좀,맞다,생각,들어서다,자주,사용,하진,않다,좀,건조하다,겨울,못,쓸다,같다      1  \n",
              "2    돈,산,바이오,덥다,세다,비다,토너,전날,구입,하루,써다,보고,나서다,같다,걸,재다...      1  \n",
              "3    돈,산,바이오,덥다,세다,비다,토너,구입,후기,이다,들다,사용,있다,뭔가,닦다,하다...      1  \n",
              "4               민감,피부,이다,자극,순하다,편하다,사용,하다,수,있다,정착,템,이다      1  \n",
              "..                                                 ...    ...  \n",
              "950  원래,쓰다,계속,쓰다,진짜,순하다,좋다,친구,추천,써다,피뷰,자극,덜하다,좁쌀,없어...      1  \n",
              "951  피부,예민하다,편이,제품,쓰기,무섭다,이,제품,자극,없다,순하다,사용,하다,좋다,건...      0  \n",
              "952         피부,진정,시키다,이다,같다,피부,민감하다,때,스킨,팩,쓰다,금방,진정,되다      1  \n",
              "953  기간,좋다,제품,싸다,자다,사다,클렌징,워터,자다,쓰다,토너,처음,바꾸다,보다,좋다...      1  \n",
              "954   피부,좋다,변화,느끼다,뒤집어지다,않다,만족,양,적지,닦다,토용,쓰다,적당하다,물,토너      0  \n",
              "\n",
              "[955 rows x 3 columns]>"
            ]
          },
          "execution_count": 167,
          "metadata": {},
          "output_type": "execute_result"
        }
      ],
      "source": [
        "import pandas as pd\n",
        "import re\n",
        "from tqdm.notebook import tqdm\n",
        "from konlpy.tag import Okt\n",
        "import json\n",
        "\n",
        "# 전처리 함수\n",
        "def preprocessing(text):\n",
        "    with open('stop_words.txt','r') as f:\n",
        "        stop_words = f.read().split(',')\n",
        "    okt = Okt()\n",
        "    rev_text=re.sub('[^가-힣\\\\s]','',text)\n",
        "    word_review = okt.pos(rev_text,stem=True)\n",
        "    word_review = [(token, pos) for token, pos in word_review if not token in stop_words and len(token)>1]\n",
        "    word_review = [token for token, pos in word_review if pos in ['Noun', 'Verb', 'Adjective']]\n",
        "    return word_review\n",
        "\n",
        "# 댓글 파일 open, 댓글 내용 없는 row drop\n",
        "df_rev = pd.read_csv('goods_review_table_v2/reviews_A000000002839.csv',encoding='utf-8-sig')\n",
        "df_rev.dropna(subset=['text'],inplace=True)\n",
        "\n",
        "\n",
        "dic_word_rev={\n",
        "    'text':[],\n",
        "    'word':[],\n",
        "    'score':[]\n",
        "}\n",
        "for i,item in df_rev.iterrows():\n",
        "    word_rev = preprocessing(item['text'])\n",
        "    dic_word_rev['text'].append(item['text'])\n",
        "    dic_word_rev['word'].append(','.join(word_rev))\n",
        "    dic_word_rev['score'].append(item['rev_score']//10)\n",
        "x_train=dic_word_rev['word']\n",
        "pd.DataFrame(dic_word_rev).head"
      ]
    },
    {
      "cell_type": "markdown",
      "source": [
        "# **2.올리브영 성분표 전처리**"
      ],
      "metadata": {
        "id": "zekDNFuBSYnV"
      }
    },
    {
      "cell_type": "code",
      "source": [
        "import requests\n",
        "from bs4 import BeautifulSoup\n",
        "import json\n",
        "import re\n",
        "import pandas as pd\n",
        "from tqdm import tqdm\n",
        "\n",
        "title = []\n",
        "title_nonsep = []\n",
        "product_id = []\n",
        "\n",
        "# 제품명, 제품번호 크롤링\n",
        "\n",
        "for i in tqdm(range(17)) :\n",
        "  url = 'https://www.oliveyoung.co.kr/store/display/getMCategoryList.do?dispCatNo=1000001000100080001&fltDispCatNo=&prdSort=01&pageIdx={}&rowsPerPage=24&searchTypeSort=btn_thumb&plusButtonFlag=N&isLoginCnt=0&aShowCnt=0&bShowCnt=0&cShowCnt=0&trackingCd=Cat1000001000100080001_Small'.format(i+1)\n",
        "  headers={\n",
        "      'Accept':'*/*',\n",
        "      'Accept-Encoding':'gzip, deflate, br',\n",
        "      'Accept-Language':'ko-KR,ko;q=0.9,en-US;q=0.8,en;q=0.7',\n",
        "      'Cennection':'keep-alive',\n",
        "      'Host':'www.oliveyoung.co.kr',\n",
        "      'sec-ch-ua':'\".Not/A)Brand\";v=\"99\", \"Google Chrome\";v=\"103\", \"Chromium\";v=\"103\"',\n",
        "      'sec-ch-ua-mobile':'?0',\n",
        "      'sec-ch-ua-platform':'\"macOS\"',\n",
        "      'Sec-Fetch-Dest':'empty',\n",
        "      'Sec-Fetch-Mode': 'cors',\n",
        "      'Sec-Fetch-Site': 'same-origin',\n",
        "      'x-datadog-origin': 'rum',\n",
        "      'x-datadog-parent-id': '7159823233067380424',\n",
        "      'x-datadog-sampled': '1',\n",
        "      'x-datadog-sampling-priority': '1',\n",
        "      'x-datadog-trace-id': '1429624409174065303',\n",
        "      'X-Requested-With': 'XMLHttpRequest',\n",
        "      'Referer':'https://www.oliveyoung.co.kr/store/goods/getGoodsDetail.do?goodsNo=A000000012880&dispCatNo=90000010001&trackingCd=Home_Curation1_1&curation=like&egcode=a016_a016&rccode=pc_main_01_c&egrankcode=2',\n",
        "      'User-Agent':'Mozilla/5.0 (Macintosh; Intel Mac OS X 10_15_7) AppleWebKit/537.36 (KHTML, like Gecko) Chrome/103.0.0.0 Safari/537.36',\n",
        "      'Cookie':'wl_chlNo=6; wl_chlDtlNo=11; RB_PCID=1658133194871774715; sch_check=yes; _gcl_au=1.1.2028396261.1658133196; PCID=16581331960867167840240; _gid=GA1.3.955099480.1658133196; oliveyoung_CID=d29d9b6d8ab0459feb86f0ff207b5f6e; oliveyoung_FIRSTDATE=1658133196468; _trs_id=eY07>7121555704152; EG_GUID=fb6f821a-4c07-40e2-b783-91c28135169b; _fbp=fb.2.1658133207261.257272098; _gcl_aw=GCL.1658133258.Cj0KCQjwidSWBhDdARIsAIoTVb1Sb4zQJXsucLe_A-Jaudb8aHkcBGthNa0rtrs6cVo-lfVwGY4JW2EaAs-SEALw_wcB; _gac_UA-92021806-1=1.1658133258.Cj0KCQjwidSWBhDdARIsAIoTVb1Sb4zQJXsucLe_A-Jaudb8aHkcBGthNa0rtrs6cVo-lfVwGY4JW2EaAs-SEALw_wcB; _gac_UA-181867310-1=1.1658133258.Cj0KCQjwidSWBhDdARIsAIoTVb1Sb4zQJXsucLe_A-Jaudb8aHkcBGthNa0rtrs6cVo-lfVwGY4JW2EaAs-SEALw_wcB; oliveyoung_LASTDATE=1658133258811; _gac_UA-92021806-9=1.1658133267.Cj0KCQjwidSWBhDdARIsAIoTVb1Sb4zQJXsucLe_A-Jaudb8aHkcBGthNa0rtrs6cVo-lfVwGY4JW2EaAs-SEALw_wcB; OYSESSIONID=16e665c4-da93-4479-9b71-82659ee1167b; NetFunnel_Main=; _trs_sid=G[6466435=5051[g[25<5303777526370; _trs_flow=; _gat_UA-92021806-9=1; _gat=1; _gat_UA-181867310-1=1; productHistory=[{\"goodsNo\":\"A000000012880\",\"viewCount\":5},{\"goodsNo\":\"A000000163275\",\"viewCount\":1},{\"goodsNo\":\"A000000161313\",\"viewCount\":1},{\"goodsNo\":\"A000000122076\",\"viewCount\":1},{\"goodsNo\":\"A000000013651\",\"viewCount\":1},{\"goodsNo\":\"A000000164615\",\"viewCount\":1}]; _ga_GMKKBJ29S2=GS1.1.1658207704.2.1.1658208594.29; wcs_bt=s_3ee47970f314:1658208594; RB_SSID=7uWsABAZaz; cto_bundle=CxdIFF8ybDZzTzJ4Vm1Ralp0emZydUJPbW82bVVuRlBGVSUyQiUyQnNNNmp6TGtXZUtFZHZ3V2ZXaVFpdUkxaHFqdDNQQ2tQJTJCTVVZeSUyRjVaT2lweTVOSTNZdUNwcUFHRnIwVEQzOVF2VnR0JTJCQzFkekJ3eFVWRVZ1em5sbjMwbHRqS1R4Mlh4T2tidEJobkhCRWQ5UVdhS0tCUEVpREklMkZ4JTJCUFFJeW5XUzVNcXJycVNoZm56YyUzRA; _dd_s=rum=0&expire=1658209497150; _ga_TTX3Z62VLN=GS1.1.1658207704.2.1.1658208597.0; _ga_P9V7281JHW=GS1.1.1658207714.2.1.1658208597.26; _ga=GA1.1.2092389701.1658133196'\n",
        "  }\n",
        "\n",
        "  resp = requests.get(url)\n",
        "  soup = BeautifulSoup(resp.text, 'lxml')\n",
        "  tit_tags = soup.select('p.tx_name')\n",
        "  prodId_tags = soup.select('div.prd_name a.goodsList')\n",
        "  \n",
        "  for i,tit_tag in enumerate(tit_tags) :\n",
        "    text1 = tit_tag.text\n",
        "    \n",
        "    if '기획' in tit_tag.text:\n",
        "      continue\n",
        "    elif '세트' in tit_tag.text and '+' in tit_tag.text :\n",
        "      continue\n",
        "    elif '세트' in tit_tag.text :\n",
        "      continue\n",
        "    elif '에디션' in tit_tag.text :\n",
        "      continue\n",
        "    elif '에멀전' in tit_tag.text :\n",
        "      continue\n",
        "    elif '로션' in tit_tag.text and not '토너' in tit_tag.text :\n",
        "      continue\n",
        "    elif '키트' in tit_tag.text :\n",
        "      continue\n",
        "    elif len(re.findall('[0-9]+종', text1)) > 0 :\n",
        "      continue\n",
        "    else:\n",
        "      if ']' in text1:\n",
        "        text1 = re.findall(\"] ?(.+)\", text1)[0]\n",
        "      if 'ml' in text1:\n",
        "        text1 = re.findall(\"(.+?)[0-9]+ml\", text1)[0]\n",
        "      if 'ML' in text1 :\n",
        "        text1 = re.findall('(.+?)[0-9]+ML', text1)[0]\n",
        "      if 'mL' in text1 :\n",
        "        text1 = re.findall('(.+?)[0-9]+mL', text1)[0]\n",
        "      if '매' in text1 and len(re.findall('(.+?)\\s[0-9]+매', text1))>0 :\n",
        "        text1 = re.findall('(.+?)\\s[0-9]+매', text1)[0]\n",
        "      if 'oz' in text1 :\n",
        "        text1 = re.findall('(.+?)[0-9].[0-9]+oz', text1)[0]\n",
        "      if 'p' in text1 and len(re.findall('(.+?) [0-9]+p', text1)) > 0:\n",
        "        text1 = re.findall('(.+?) [0-9]+p', text1)[0]  \n",
        "      if '(' in text1 :\n",
        "        text1 = re.findall(\"(.+?) ?\\(\", text1)[0]\n",
        "      if text1[-1] == \" \":\n",
        "        text1 = str(text1[:-1])\n",
        "      \n",
        "      if text1.replace(\" \", \"\") in title_nonsep:\n",
        "        continue\n",
        "      title.append(text1)\n",
        "      title_nonsep.append(text1.replace(\" \", \"\"))\n",
        "      product_id.append(prodId_tags[i]['data-ref-goodsno'])\n",
        "\n",
        "\n",
        "title.remove('아누아 어성초 77 토너')\n",
        "product_id.remove('A000000148391')\n",
        "title.remove('디오디너리 랙틱 애시드 5%+에이치에이')\n",
        "product_id.remove('A000000141330')\n",
        "title.remove('디오디너리 랙틱 애시드 10%+에이치에이')\n",
        "product_id.remove('A000000141327')\n",
        "title.remove('코스알엑스 퓨어핏 시카 토너')\n",
        "product_id.remove('A000000137502')\n",
        "\n",
        "dic_title = {\n",
        "    'title': title,\n",
        "    'product_id': product_id\n",
        "}\n",
        "\n",
        "\n",
        "\n",
        "df_title = pd.DataFrame(dic_title)\n",
        "df_title\n",
        "\n",
        "# df_title.to_csv('title_.csv', index = False, encoding = 'cp949')\n"
      ],
      "metadata": {
        "id": "ijbeSC4vgKKn",
        "colab": {
          "base_uri": "https://localhost:8080/",
          "height": 442
        },
        "outputId": "227f93fd-8224-4ada-9217-f48fa9131f58"
      },
      "execution_count": null,
      "outputs": [
        {
          "output_type": "stream",
          "name": "stderr",
          "text": [
            "100%|██████████| 17/17 [00:28<00:00,  1.67s/it]\n"
          ]
        },
        {
          "output_type": "execute_result",
          "data": {
            "text/plain": [
              "                           title     product_id\n",
              "0                라운드랩 1025 독도 토너  A000000137180\n",
              "1         에스트라 테라크네365 하이드레이션 토너  A000000126862\n",
              "2          닥터지 레드 블레미쉬 클리어 수딩 토너  A000000154177\n",
              "3    라로슈포제 에빠끌라 H 리밸런싱 하이드레이션 토너  A000000010474\n",
              "4            아비브 어성초 카밍 토너 스킨부스터  A000000146589\n",
              "..                           ...            ...\n",
              "243      CKD 레티노콜라겐 저분자 300 집중크림  A000000153784\n",
              "244        CKD 레티노콜라겐 저분자 300 크림  A000000153778\n",
              "245              아워 비건 어성초 시카 크림  A000000153727\n",
              "246              아워 비건 어성초 시카 토너  A000000153724\n",
              "247               헤라 옴므 에센스 인 스킨  A000000153817\n",
              "\n",
              "[248 rows x 2 columns]"
            ],
            "text/html": [
              "\n",
              "  <div id=\"df-0ae7f9a0-6b9b-4930-9709-eac04dcbd8d9\">\n",
              "    <div class=\"colab-df-container\">\n",
              "      <div>\n",
              "<style scoped>\n",
              "    .dataframe tbody tr th:only-of-type {\n",
              "        vertical-align: middle;\n",
              "    }\n",
              "\n",
              "    .dataframe tbody tr th {\n",
              "        vertical-align: top;\n",
              "    }\n",
              "\n",
              "    .dataframe thead th {\n",
              "        text-align: right;\n",
              "    }\n",
              "</style>\n",
              "<table border=\"1\" class=\"dataframe\">\n",
              "  <thead>\n",
              "    <tr style=\"text-align: right;\">\n",
              "      <th></th>\n",
              "      <th>title</th>\n",
              "      <th>product_id</th>\n",
              "    </tr>\n",
              "  </thead>\n",
              "  <tbody>\n",
              "    <tr>\n",
              "      <th>0</th>\n",
              "      <td>라운드랩 1025 독도 토너</td>\n",
              "      <td>A000000137180</td>\n",
              "    </tr>\n",
              "    <tr>\n",
              "      <th>1</th>\n",
              "      <td>에스트라 테라크네365 하이드레이션 토너</td>\n",
              "      <td>A000000126862</td>\n",
              "    </tr>\n",
              "    <tr>\n",
              "      <th>2</th>\n",
              "      <td>닥터지 레드 블레미쉬 클리어 수딩 토너</td>\n",
              "      <td>A000000154177</td>\n",
              "    </tr>\n",
              "    <tr>\n",
              "      <th>3</th>\n",
              "      <td>라로슈포제 에빠끌라 H 리밸런싱 하이드레이션 토너</td>\n",
              "      <td>A000000010474</td>\n",
              "    </tr>\n",
              "    <tr>\n",
              "      <th>4</th>\n",
              "      <td>아비브 어성초 카밍 토너 스킨부스터</td>\n",
              "      <td>A000000146589</td>\n",
              "    </tr>\n",
              "    <tr>\n",
              "      <th>...</th>\n",
              "      <td>...</td>\n",
              "      <td>...</td>\n",
              "    </tr>\n",
              "    <tr>\n",
              "      <th>243</th>\n",
              "      <td>CKD 레티노콜라겐 저분자 300 집중크림</td>\n",
              "      <td>A000000153784</td>\n",
              "    </tr>\n",
              "    <tr>\n",
              "      <th>244</th>\n",
              "      <td>CKD 레티노콜라겐 저분자 300 크림</td>\n",
              "      <td>A000000153778</td>\n",
              "    </tr>\n",
              "    <tr>\n",
              "      <th>245</th>\n",
              "      <td>아워 비건 어성초 시카 크림</td>\n",
              "      <td>A000000153727</td>\n",
              "    </tr>\n",
              "    <tr>\n",
              "      <th>246</th>\n",
              "      <td>아워 비건 어성초 시카 토너</td>\n",
              "      <td>A000000153724</td>\n",
              "    </tr>\n",
              "    <tr>\n",
              "      <th>247</th>\n",
              "      <td>헤라 옴므 에센스 인 스킨</td>\n",
              "      <td>A000000153817</td>\n",
              "    </tr>\n",
              "  </tbody>\n",
              "</table>\n",
              "<p>248 rows × 2 columns</p>\n",
              "</div>\n",
              "      <button class=\"colab-df-convert\" onclick=\"convertToInteractive('df-0ae7f9a0-6b9b-4930-9709-eac04dcbd8d9')\"\n",
              "              title=\"Convert this dataframe to an interactive table.\"\n",
              "              style=\"display:none;\">\n",
              "        \n",
              "  <svg xmlns=\"http://www.w3.org/2000/svg\" height=\"24px\"viewBox=\"0 0 24 24\"\n",
              "       width=\"24px\">\n",
              "    <path d=\"M0 0h24v24H0V0z\" fill=\"none\"/>\n",
              "    <path d=\"M18.56 5.44l.94 2.06.94-2.06 2.06-.94-2.06-.94-.94-2.06-.94 2.06-2.06.94zm-11 1L8.5 8.5l.94-2.06 2.06-.94-2.06-.94L8.5 2.5l-.94 2.06-2.06.94zm10 10l.94 2.06.94-2.06 2.06-.94-2.06-.94-.94-2.06-.94 2.06-2.06.94z\"/><path d=\"M17.41 7.96l-1.37-1.37c-.4-.4-.92-.59-1.43-.59-.52 0-1.04.2-1.43.59L10.3 9.45l-7.72 7.72c-.78.78-.78 2.05 0 2.83L4 21.41c.39.39.9.59 1.41.59.51 0 1.02-.2 1.41-.59l7.78-7.78 2.81-2.81c.8-.78.8-2.07 0-2.86zM5.41 20L4 18.59l7.72-7.72 1.47 1.35L5.41 20z\"/>\n",
              "  </svg>\n",
              "      </button>\n",
              "      \n",
              "  <style>\n",
              "    .colab-df-container {\n",
              "      display:flex;\n",
              "      flex-wrap:wrap;\n",
              "      gap: 12px;\n",
              "    }\n",
              "\n",
              "    .colab-df-convert {\n",
              "      background-color: #E8F0FE;\n",
              "      border: none;\n",
              "      border-radius: 50%;\n",
              "      cursor: pointer;\n",
              "      display: none;\n",
              "      fill: #1967D2;\n",
              "      height: 32px;\n",
              "      padding: 0 0 0 0;\n",
              "      width: 32px;\n",
              "    }\n",
              "\n",
              "    .colab-df-convert:hover {\n",
              "      background-color: #E2EBFA;\n",
              "      box-shadow: 0px 1px 2px rgba(60, 64, 67, 0.3), 0px 1px 3px 1px rgba(60, 64, 67, 0.15);\n",
              "      fill: #174EA6;\n",
              "    }\n",
              "\n",
              "    [theme=dark] .colab-df-convert {\n",
              "      background-color: #3B4455;\n",
              "      fill: #D2E3FC;\n",
              "    }\n",
              "\n",
              "    [theme=dark] .colab-df-convert:hover {\n",
              "      background-color: #434B5C;\n",
              "      box-shadow: 0px 1px 3px 1px rgba(0, 0, 0, 0.15);\n",
              "      filter: drop-shadow(0px 1px 2px rgba(0, 0, 0, 0.3));\n",
              "      fill: #FFFFFF;\n",
              "    }\n",
              "  </style>\n",
              "\n",
              "      <script>\n",
              "        const buttonEl =\n",
              "          document.querySelector('#df-0ae7f9a0-6b9b-4930-9709-eac04dcbd8d9 button.colab-df-convert');\n",
              "        buttonEl.style.display =\n",
              "          google.colab.kernel.accessAllowed ? 'block' : 'none';\n",
              "\n",
              "        async function convertToInteractive(key) {\n",
              "          const element = document.querySelector('#df-0ae7f9a0-6b9b-4930-9709-eac04dcbd8d9');\n",
              "          const dataTable =\n",
              "            await google.colab.kernel.invokeFunction('convertToInteractive',\n",
              "                                                     [key], {});\n",
              "          if (!dataTable) return;\n",
              "\n",
              "          const docLinkHtml = 'Like what you see? Visit the ' +\n",
              "            '<a target=\"_blank\" href=https://colab.research.google.com/notebooks/data_table.ipynb>data table notebook</a>'\n",
              "            + ' to learn more about interactive tables.';\n",
              "          element.innerHTML = '';\n",
              "          dataTable['output_type'] = 'display_data';\n",
              "          await google.colab.output.renderOutput(dataTable, element);\n",
              "          const docLink = document.createElement('div');\n",
              "          docLink.innerHTML = docLinkHtml;\n",
              "          element.appendChild(docLink);\n",
              "        }\n",
              "      </script>\n",
              "    </div>\n",
              "  </div>\n",
              "  "
            ]
          },
          "metadata": {},
          "execution_count": 1
        }
      ]
    },
    {
      "cell_type": "code",
      "source": [
        "# #성분 크롤링\n",
        "# pd.read_csv('ing_final1.csv', encoding = 'cp949')\n",
        "\n",
        "comps = []\n",
        "spliter = ['@', ',', '[]']\n",
        "for i in tqdm(range(len(title))) : \n",
        "  # A = []\n",
        "\n",
        "  url = 'https://www.oliveyoung.co.kr/store/goods/getGoodsArtcAjax.do'\n",
        "\n",
        "  data = {\n",
        "      'goodsNo': product_id[i],\n",
        "      'itemNo': '001',\n",
        "      'pkgGoodsYn': 'N'\n",
        "  }\n",
        "  headers = {\n",
        "      'referer' : 'https://www.oliveyoung.co.kr/store/goods/getGoodsDetail.do?goodsNo={}&dispCatNo=100000100080008&trackingCd=Cat100000100080008_MID'.format(product_id[i]),\n",
        "      'user-agent' : 'Mozilla/5.0 (Macintosh; Intel Mac OS X 11_0_0) AppleWebKit/537.36 (KHTML, like Gecko) Chrome/86.0.4240.277 Whale/2.9.118.38 Safari/537.36',\n",
        "      'cookie' : 'RB_PCID=1658133318588982757; sch_check=yes; _gcl_au=1.1.427087452.1658133321; PCID=16581333217657630606376; _gid=GA1.3.1793602515.1658133322; EG_GUID=7d6219c2-e188-47ef-91b0-f08d2a43adf3; _trs_id=eY07%3E7143453452%3E1; oliveyoung_CID=f481652d3d1c4887d5aeae7662fc53c8; OYSESSIONID=3fe5e44b-5d0a-48db-8830-642da67be94d; wl_chlNo=6; _trs_sid=G%5B6466435%3D5050%5Bg%5B25%3C5361671670%3C3; _trs_flow=; oliveyoung_FIRSTDATE=1658207656794; _fbp=fb.2.1658207737780.2010164342; wl_chlDtlNo=40; NetFunnel_Main=; oliveyoung_LASTDATE=1658208824851; RB_SSID=jxMP8rKOnZ; wcs_bt=s_3ee47970f314:1658209298; cto_bundle=fC2Sp19LV1h2WmZ4dm1wdXVQTzNmQU05RHd1SHJ0MGtQcGlXUm0lMkJsJTJCNUtnaU9GUng0blA4a0ozZkFWQVdHd3piamslMkJCM3ZhRXU2biUyRjdNeTY1ZDlsZTVqMkdYS0FJUm1WMU9ObEpSWmtKUkFpWVowRU05WDNkaSUyQklMY0d0NDI4Tm5EcXV4dDNGNDJuTU5qQUtWeEpYYVJFQXJ4VW84TlZFdCUyQnpqOTluWXdsdXklMkZZOVBQTkx0RFNQSmhMdDVsVTBUQ2I2S0tzOTklMkI3R052bTBlMzBwUThGUEVaQSUzRCUzRA; _ga=GA1.3.336530213.1658133322; _gat_UA-92021806-9=1; _ga_TTX3Z62VLN=GS1.1.1658207656.2.1.1658210598.0; _ga_P9V7281JHW=GS1.1.1658207663.2.1.1658210598.60; _ga_GMKKBJ29S2=GS1.1.1658207656.2.1.1658210598.60; productHistory=[{\"goodsNo\":\"A000000126862\",\"viewCount\":6},{\"goodsNo\":\"A000000165725\",\"viewCount\":1},{\"goodsNo\":\"A000000169244\",\"viewCount\":1}]; _dd_s=rum=0&expire=1658211501771'\n",
        "  }\n",
        "\n",
        "  resp = requests.post(url,data = data, headers = headers)\n",
        "  soup = BeautifulSoup(resp.text, 'lxml')\n",
        "  comp_tags = soup.select('dl.detail_info_list dd')\n",
        "\n",
        "\n",
        "  comp = str(comp_tags[6]).replace('<dd>','').replace('</dd>', '')#.replace('<br/>','')\n",
        "\n",
        "  # if ',' not in comp :\n",
        "  #   comp.replace(' ', ',')\n",
        "  # if '[]' in comp :\n",
        "  #   comp.replace('[]', ',')\n",
        "\n",
        "  # if '(' in comp :\n",
        "  #   comp = re.findall('([가-힣]+) ?(', comp)\n",
        "  # if '*' in comp :\n",
        "  #   comp = re.findall('([가-힣]+) ?*', comp)\n",
        "  \n",
        "\n",
        "  comps.append(comp.replace(' ', ''))\n",
        "\n",
        "dic_components = {\n",
        "    'title' : title,\n",
        "    'components' : comps\n",
        "}\n",
        "\n",
        "df_comps = pd.DataFrame(dic_components)\n",
        "# df_title.to_csv('title_.csv', index = False, encoding = 'cp949')\n",
        "df_comps.to_csv('components__.csv', index = False, encoding='utf-8-sig')"
      ],
      "metadata": {
        "id": "Y7HMqqXyPQlg",
        "colab": {
          "base_uri": "https://localhost:8080/"
        },
        "outputId": "20cdc6ef-4d7b-4d17-c0c8-b83bef0e7cb8"
      },
      "execution_count": null,
      "outputs": [
        {
          "output_type": "stream",
          "name": "stderr",
          "text": [
            "100%|██████████| 248/248 [03:28<00:00,  1.19it/s]\n"
          ]
        }
      ]
    },
    {
      "cell_type": "code",
      "source": [
        "df_comps.loc[206].components = df_comps.loc[206].components.split('<br/>')[2]\n",
        "df_comps.loc[67].components = df_comps.loc[67].components.split('<br/>')[1]\n",
        "df_comps.loc[164].components = df_comps.loc[164].components.split('<br/>')[0]"
      ],
      "metadata": {
        "id": "4jo6UAZDZPID"
      },
      "execution_count": null,
      "outputs": []
    },
    {
      "cell_type": "code",
      "source": [
        "component = pd.read_csv('components__.csv')"
      ],
      "metadata": {
        "id": "NKbbRX1oXqNU"
      },
      "execution_count": null,
      "outputs": []
    },
    {
      "cell_type": "code",
      "source": [
        "component"
      ],
      "metadata": {
        "colab": {
          "base_uri": "https://localhost:8080/",
          "height": 424
        },
        "id": "a_01nyYVYXPw",
        "outputId": "1e88a5e5-385f-4239-900d-7c20a7e11d8c"
      },
      "execution_count": null,
      "outputs": [
        {
          "output_type": "execute_result",
          "data": {
            "text/plain": [
              "                           title  \\\n",
              "0                라운드랩 1025 독도 토너   \n",
              "1         에스트라 테라크네365 하이드레이션 토너   \n",
              "2          닥터지 레드 블레미쉬 클리어 수딩 토너   \n",
              "3    라로슈포제 에빠끌라 H 리밸런싱 하이드레이션 토너   \n",
              "4            아비브 어성초 카밍 토너 스킨부스터   \n",
              "..                           ...   \n",
              "243      CKD 레티노콜라겐 저분자 300 집중크림   \n",
              "244        CKD 레티노콜라겐 저분자 300 크림   \n",
              "245              아워 비건 어성초 시카 크림   \n",
              "246              아워 비건 어성초 시카 토너   \n",
              "247               헤라 옴므 에센스 인 스킨   \n",
              "\n",
              "                                            components  \n",
              "0    정제수,부틸렌글라이콜,글리세린,펜틸렌글라이콜,프로판다이올,아이리쉬모스추출물,사탕수수...  \n",
              "1    정제수,부틸렌글라이콜,글리세린,녹차추출물,나이아신아마이드,프로판디올,페녹시에탄올,잔...  \n",
              "2    정제수,다이프로필렌글라이콜,프로판다이올,펜틸렌글라이콜,나이아신아마이드,부틸렌글라이콜...  \n",
              "3    정제수부틸렌글라이콜피이지-8글리세린소듐피씨에이피이지-60하이드로제네이티드캐스터오일살...  \n",
              "4    정제수,약모밀추출물,글리세린,부틸렌글라이콜,펜틸렌글라이콜,자일리톨,비피다발효용해물,...  \n",
              "..                                                 ...  \n",
              "243  수용성콜라겐,글리세린,정제수,사이클로헥사실록세인,프로판다이올,나이아신아마이드,다이카...  \n",
              "244  수용성콜라겐,하이드로제네이티드폴리데센,카프릴릭/카프릭트라이글리세라이드,글리세린,펜타...  \n",
              "245  정제수,부틸렌글라이콜,약모밀추출물,카프릴릭/카프릭트라이글리세라이드,글리세린,다이카프...  \n",
              "246  정제수,약모밀추출물,부틸렌글라이콜,글리세레스-26,글리세린,병풀추출물,밤부사불가리스...  \n",
              "247  정제수,변성알코올,프로판다이올,글리세레스-26,글리세린,나이아신아마이드,2-헥산다이...  \n",
              "\n",
              "[248 rows x 2 columns]"
            ],
            "text/html": [
              "\n",
              "  <div id=\"df-6b99f899-22c4-42e5-b75b-f9f8e550afb6\">\n",
              "    <div class=\"colab-df-container\">\n",
              "      <div>\n",
              "<style scoped>\n",
              "    .dataframe tbody tr th:only-of-type {\n",
              "        vertical-align: middle;\n",
              "    }\n",
              "\n",
              "    .dataframe tbody tr th {\n",
              "        vertical-align: top;\n",
              "    }\n",
              "\n",
              "    .dataframe thead th {\n",
              "        text-align: right;\n",
              "    }\n",
              "</style>\n",
              "<table border=\"1\" class=\"dataframe\">\n",
              "  <thead>\n",
              "    <tr style=\"text-align: right;\">\n",
              "      <th></th>\n",
              "      <th>title</th>\n",
              "      <th>components</th>\n",
              "    </tr>\n",
              "  </thead>\n",
              "  <tbody>\n",
              "    <tr>\n",
              "      <th>0</th>\n",
              "      <td>라운드랩 1025 독도 토너</td>\n",
              "      <td>정제수,부틸렌글라이콜,글리세린,펜틸렌글라이콜,프로판다이올,아이리쉬모스추출물,사탕수수...</td>\n",
              "    </tr>\n",
              "    <tr>\n",
              "      <th>1</th>\n",
              "      <td>에스트라 테라크네365 하이드레이션 토너</td>\n",
              "      <td>정제수,부틸렌글라이콜,글리세린,녹차추출물,나이아신아마이드,프로판디올,페녹시에탄올,잔...</td>\n",
              "    </tr>\n",
              "    <tr>\n",
              "      <th>2</th>\n",
              "      <td>닥터지 레드 블레미쉬 클리어 수딩 토너</td>\n",
              "      <td>정제수,다이프로필렌글라이콜,프로판다이올,펜틸렌글라이콜,나이아신아마이드,부틸렌글라이콜...</td>\n",
              "    </tr>\n",
              "    <tr>\n",
              "      <th>3</th>\n",
              "      <td>라로슈포제 에빠끌라 H 리밸런싱 하이드레이션 토너</td>\n",
              "      <td>정제수부틸렌글라이콜피이지-8글리세린소듐피씨에이피이지-60하이드로제네이티드캐스터오일살...</td>\n",
              "    </tr>\n",
              "    <tr>\n",
              "      <th>4</th>\n",
              "      <td>아비브 어성초 카밍 토너 스킨부스터</td>\n",
              "      <td>정제수,약모밀추출물,글리세린,부틸렌글라이콜,펜틸렌글라이콜,자일리톨,비피다발효용해물,...</td>\n",
              "    </tr>\n",
              "    <tr>\n",
              "      <th>...</th>\n",
              "      <td>...</td>\n",
              "      <td>...</td>\n",
              "    </tr>\n",
              "    <tr>\n",
              "      <th>243</th>\n",
              "      <td>CKD 레티노콜라겐 저분자 300 집중크림</td>\n",
              "      <td>수용성콜라겐,글리세린,정제수,사이클로헥사실록세인,프로판다이올,나이아신아마이드,다이카...</td>\n",
              "    </tr>\n",
              "    <tr>\n",
              "      <th>244</th>\n",
              "      <td>CKD 레티노콜라겐 저분자 300 크림</td>\n",
              "      <td>수용성콜라겐,하이드로제네이티드폴리데센,카프릴릭/카프릭트라이글리세라이드,글리세린,펜타...</td>\n",
              "    </tr>\n",
              "    <tr>\n",
              "      <th>245</th>\n",
              "      <td>아워 비건 어성초 시카 크림</td>\n",
              "      <td>정제수,부틸렌글라이콜,약모밀추출물,카프릴릭/카프릭트라이글리세라이드,글리세린,다이카프...</td>\n",
              "    </tr>\n",
              "    <tr>\n",
              "      <th>246</th>\n",
              "      <td>아워 비건 어성초 시카 토너</td>\n",
              "      <td>정제수,약모밀추출물,부틸렌글라이콜,글리세레스-26,글리세린,병풀추출물,밤부사불가리스...</td>\n",
              "    </tr>\n",
              "    <tr>\n",
              "      <th>247</th>\n",
              "      <td>헤라 옴므 에센스 인 스킨</td>\n",
              "      <td>정제수,변성알코올,프로판다이올,글리세레스-26,글리세린,나이아신아마이드,2-헥산다이...</td>\n",
              "    </tr>\n",
              "  </tbody>\n",
              "</table>\n",
              "<p>248 rows × 2 columns</p>\n",
              "</div>\n",
              "      <button class=\"colab-df-convert\" onclick=\"convertToInteractive('df-6b99f899-22c4-42e5-b75b-f9f8e550afb6')\"\n",
              "              title=\"Convert this dataframe to an interactive table.\"\n",
              "              style=\"display:none;\">\n",
              "        \n",
              "  <svg xmlns=\"http://www.w3.org/2000/svg\" height=\"24px\"viewBox=\"0 0 24 24\"\n",
              "       width=\"24px\">\n",
              "    <path d=\"M0 0h24v24H0V0z\" fill=\"none\"/>\n",
              "    <path d=\"M18.56 5.44l.94 2.06.94-2.06 2.06-.94-2.06-.94-.94-2.06-.94 2.06-2.06.94zm-11 1L8.5 8.5l.94-2.06 2.06-.94-2.06-.94L8.5 2.5l-.94 2.06-2.06.94zm10 10l.94 2.06.94-2.06 2.06-.94-2.06-.94-.94-2.06-.94 2.06-2.06.94z\"/><path d=\"M17.41 7.96l-1.37-1.37c-.4-.4-.92-.59-1.43-.59-.52 0-1.04.2-1.43.59L10.3 9.45l-7.72 7.72c-.78.78-.78 2.05 0 2.83L4 21.41c.39.39.9.59 1.41.59.51 0 1.02-.2 1.41-.59l7.78-7.78 2.81-2.81c.8-.78.8-2.07 0-2.86zM5.41 20L4 18.59l7.72-7.72 1.47 1.35L5.41 20z\"/>\n",
              "  </svg>\n",
              "      </button>\n",
              "      \n",
              "  <style>\n",
              "    .colab-df-container {\n",
              "      display:flex;\n",
              "      flex-wrap:wrap;\n",
              "      gap: 12px;\n",
              "    }\n",
              "\n",
              "    .colab-df-convert {\n",
              "      background-color: #E8F0FE;\n",
              "      border: none;\n",
              "      border-radius: 50%;\n",
              "      cursor: pointer;\n",
              "      display: none;\n",
              "      fill: #1967D2;\n",
              "      height: 32px;\n",
              "      padding: 0 0 0 0;\n",
              "      width: 32px;\n",
              "    }\n",
              "\n",
              "    .colab-df-convert:hover {\n",
              "      background-color: #E2EBFA;\n",
              "      box-shadow: 0px 1px 2px rgba(60, 64, 67, 0.3), 0px 1px 3px 1px rgba(60, 64, 67, 0.15);\n",
              "      fill: #174EA6;\n",
              "    }\n",
              "\n",
              "    [theme=dark] .colab-df-convert {\n",
              "      background-color: #3B4455;\n",
              "      fill: #D2E3FC;\n",
              "    }\n",
              "\n",
              "    [theme=dark] .colab-df-convert:hover {\n",
              "      background-color: #434B5C;\n",
              "      box-shadow: 0px 1px 3px 1px rgba(0, 0, 0, 0.15);\n",
              "      filter: drop-shadow(0px 1px 2px rgba(0, 0, 0, 0.3));\n",
              "      fill: #FFFFFF;\n",
              "    }\n",
              "  </style>\n",
              "\n",
              "      <script>\n",
              "        const buttonEl =\n",
              "          document.querySelector('#df-6b99f899-22c4-42e5-b75b-f9f8e550afb6 button.colab-df-convert');\n",
              "        buttonEl.style.display =\n",
              "          google.colab.kernel.accessAllowed ? 'block' : 'none';\n",
              "\n",
              "        async function convertToInteractive(key) {\n",
              "          const element = document.querySelector('#df-6b99f899-22c4-42e5-b75b-f9f8e550afb6');\n",
              "          const dataTable =\n",
              "            await google.colab.kernel.invokeFunction('convertToInteractive',\n",
              "                                                     [key], {});\n",
              "          if (!dataTable) return;\n",
              "\n",
              "          const docLinkHtml = 'Like what you see? Visit the ' +\n",
              "            '<a target=\"_blank\" href=https://colab.research.google.com/notebooks/data_table.ipynb>data table notebook</a>'\n",
              "            + ' to learn more about interactive tables.';\n",
              "          element.innerHTML = '';\n",
              "          dataTable['output_type'] = 'display_data';\n",
              "          await google.colab.output.renderOutput(dataTable, element);\n",
              "          const docLink = document.createElement('div');\n",
              "          docLink.innerHTML = docLinkHtml;\n",
              "          element.appendChild(docLink);\n",
              "        }\n",
              "      </script>\n",
              "    </div>\n",
              "  </div>\n",
              "  "
            ]
          },
          "metadata": {},
          "execution_count": 149
        }
      ]
    },
    {
      "cell_type": "code",
      "source": [
        "component['components']"
      ],
      "metadata": {
        "colab": {
          "base_uri": "https://localhost:8080/"
        },
        "id": "j-SXudozYiQx",
        "outputId": "d1a7f250-2d01-4892-99e5-750b4f93d6da"
      },
      "execution_count": null,
      "outputs": [
        {
          "output_type": "execute_result",
          "data": {
            "text/plain": [
              "0      정제수,부틸렌글라이콜,글리세린,펜틸렌글라이콜,프로판다이올,아이리쉬모스추출물,사탕수수...\n",
              "1      정제수,부틸렌글라이콜,글리세린,녹차추출물,나이아신아마이드,프로판디올,페녹시에탄올,잔...\n",
              "2      정제수,다이프로필렌글라이콜,프로판다이올,펜틸렌글라이콜,나이아신아마이드,부틸렌글라이콜...\n",
              "3      정제수부틸렌글라이콜피이지-8글리세린소듐피씨에이피이지-60하이드로제네이티드캐스터오일살...\n",
              "4      정제수,약모밀추출물,글리세린,부틸렌글라이콜,펜틸렌글라이콜,자일리톨,비피다발효용해물,...\n",
              "                             ...                        \n",
              "243    수용성콜라겐(55%),글리세린,정제수,사이클로헥사실록세인,프로판다이올,나이아신아마이...\n",
              "244    수용성콜라겐(53%),하이드로제네이티드폴리데센,카프릴릭/카프릭트라이글리세라이드,글리...\n",
              "245    정제수,부틸렌글라이콜,약모밀추출물(어성초추출물,5%),카프릴릭/카프릭트라이글리세라이...\n",
              "246    정제수,약모밀추출물(어성초추출물,5%),부틸렌글라이콜,글리세레스-26,글리세린,병풀...\n",
              "247    정제수,변성알코올,프로판다이올,글리세레스-26,글리세린,나이아신아마이드,1,2-헥산...\n",
              "Name: components, Length: 248, dtype: object"
            ]
          },
          "metadata": {},
          "execution_count": 128
        }
      ]
    },
    {
      "cell_type": "code",
      "source": [
        "for i in range(len(component['components'])):\n",
        "  if '@' in component['components'][i] :\n",
        "    component['components'][i] = component['components'][i].replace('@', ',')\n",
        "  elif '[]' in component['components'][i] :\n",
        "    component['components'][i] = component['components'][i].replace('[]', ',')\n",
        "  elif ' ' in component['components'][i] :\n",
        "    component['components'][i] = component['components'][i].replace(' ', ',')\n",
        "  elif ',,' in component['components'][i] :\n",
        "    component['components'][i] = component['components'][i].replace(',,', ',')\n",
        "  #elif '<br/>' in component['components'][i] :\n",
        "    #component['components'][i] = component['components'][i].replace('<br/>', '')\n",
        "  #elif '1' in component['components'][i] :\n",
        "    #component['components'][i] = component['components'][i].replace('1', '')\n",
        "  elif '1,2-헥산다이올' in component['components'][i] :\n",
        "    component['components'][i] = component['components'][i].replace('1,2-헥산다이올', '2-헥산다이올')\n",
        "  elif '1,2-헥산디올' in df_comps['components'][i] :\n",
        "    component['components'][i] = component['components'][i].replace('1,2-헥산디올', '2-헥산다이올')\n",
        "  elif ' ' in component['components'][i] :\n",
        "    component['components'][i] = component['components'][i].replace(' ', '')\n",
        "  elif ' ,' in component['components'][i] :\n",
        "    component['components'][i] = component['components'][i].replace(' ,', '')    \n",
        "  elif '2-헥산디올' in component['components'][i] :\n",
        "    component['components'][i] = component['components'][i].replace('2-헥산디올', '2-헥산다이올')\n",
        "  elif '■,' in component['components'][i] :\n",
        "    component['components'][i] = component['components'][i].replace('■,', '')\n",
        "  elif '■' in component['components'][i] :\n",
        "    component['components'][i] = component['components'][i].replace('■', '')\n",
        "  elif '*' in component['components'][i] :\n",
        "    component['components'][i] = component['components'][i].replace('*', '')\n",
        "  elif '+' in component['components'][i] :\n",
        "    component['components'][i] = component['components'][i].replace('+', '')\n",
        "  elif \"'\" in component['components'][i] :\n",
        "    component['components'][i] = component['components'][i].replace(\"'\", '')\n",
        "  elif '\"\"\"' in component['components'][i] :\n",
        "    component['components'][i] = component['components'][i].replace('\"\"\"', '')\n",
        "\n",
        "  component['components'][i] = re.sub('\\([^)]*\\)','',component['components'][i]) # ()안에 있는 문자열 포함 삭제\n",
        "  component['components'][i] = re.sub('[0-9]*%','',component['components'][i]) #194번에 녹차추출물100% << 100%삭제\n",
        "  component['components'][i] = re.sub('[0-9]*,[0-9]*ppm','',component['components'][i]) #32번에 750,000ppm 지우기\n",
        "  component['components'][i] = re.sub('\\[[가-힣]+\\][1-9].+a','',component['components'][i])#242번 앞쪽 [본품],구성품50ml2ea 지우기\n",
        "  component['components'][i] = re.sub('\\[[가-힣]+\\]','.',component['components'][i]) #[]안에 있는거 .으로 변환  55,83번 '&'으로 스플릿해서 가져옴\n",
        "  #elif '*' in component['components'][i] :\n",
        "    #component['components'][i] = re.findall('([가-힣]+)*', component['components'][i])\n",
        "  #elif \",,\" in df_comps['components'][i]:\n",
        "    #component['components'][i] = re.sub('(,+)',\",\",component['components'][i])\n",
        "#\\([^)]*\\)/\"\"\"/\\[[가-힣]+\\][1-9].+a/\\[[가-힣]+\\]\n",
        "\n",
        "component\n"
      ],
      "metadata": {
        "id": "uZV2TeZMlFj7",
        "outputId": "18680760-c15c-4568-934e-48aabb6c31db",
        "colab": {
          "base_uri": "https://localhost:8080/",
          "height": 2103
        }
      },
      "execution_count": null,
      "outputs": [
        {
          "output_type": "execute_result",
          "data": {
            "text/plain": [
              "                           title  \\\n",
              "0                라운드랩 1025 독도 토너   \n",
              "1         에스트라 테라크네365 하이드레이션 토너   \n",
              "2          닥터지 레드 블레미쉬 클리어 수딩 토너   \n",
              "3    라로슈포제 에빠끌라 H 리밸런싱 하이드레이션 토너   \n",
              "4            아비브 어성초 카밍 토너 스킨부스터   \n",
              "..                           ...   \n",
              "243      CKD 레티노콜라겐 저분자 300 집중크림   \n",
              "244        CKD 레티노콜라겐 저분자 300 크림   \n",
              "245              아워 비건 어성초 시카 크림   \n",
              "246              아워 비건 어성초 시카 토너   \n",
              "247               헤라 옴므 에센스 인 스킨   \n",
              "\n",
              "                                            components  \n",
              "0    정제수,부틸렌글라이콜,글리세린,펜틸렌글라이콜,프로판다이올,아이리쉬모스추출물,사탕수수...  \n",
              "1    정제수,부틸렌글라이콜,글리세린,녹차추출물,나이아신아마이드,프로판디올,페녹시에탄올,잔...  \n",
              "2    정제수,다이프로필렌글라이콜,프로판다이올,펜틸렌글라이콜,나이아신아마이드,부틸렌글라이콜...  \n",
              "3    정제수부틸렌글라이콜피이지-8글리세린소듐피씨에이피이지-60하이드로제네이티드캐스터오일살...  \n",
              "4    정제수,약모밀추출물,글리세린,부틸렌글라이콜,펜틸렌글라이콜,자일리톨,비피다발효용해물,...  \n",
              "..                                                 ...  \n",
              "243  수용성콜라겐,글리세린,정제수,사이클로헥사실록세인,프로판다이올,나이아신아마이드,다이카...  \n",
              "244  수용성콜라겐,하이드로제네이티드폴리데센,카프릴릭/카프릭트라이글리세라이드,글리세린,펜타...  \n",
              "245  정제수,부틸렌글라이콜,약모밀추출물,카프릴릭/카프릭트라이글리세라이드,글리세린,다이카프...  \n",
              "246  정제수,약모밀추출물,부틸렌글라이콜,글리세레스-26,글리세린,병풀추출물,밤부사불가리스...  \n",
              "247  정제수,변성알코올,프로판다이올,글리세레스-26,글리세린,나이아신아마이드,2-헥산다이...  \n",
              "\n",
              "[248 rows x 2 columns]"
            ],
            "text/html": [
              "\n",
              "  <div id=\"df-b0c952e8-ddb9-4a09-bc85-0f253ed02ca0\">\n",
              "    <div class=\"colab-df-container\">\n",
              "      <div>\n",
              "<style scoped>\n",
              "    .dataframe tbody tr th:only-of-type {\n",
              "        vertical-align: middle;\n",
              "    }\n",
              "\n",
              "    .dataframe tbody tr th {\n",
              "        vertical-align: top;\n",
              "    }\n",
              "\n",
              "    .dataframe thead th {\n",
              "        text-align: right;\n",
              "    }\n",
              "</style>\n",
              "<table border=\"1\" class=\"dataframe\">\n",
              "  <thead>\n",
              "    <tr style=\"text-align: right;\">\n",
              "      <th></th>\n",
              "      <th>title</th>\n",
              "      <th>components</th>\n",
              "    </tr>\n",
              "  </thead>\n",
              "  <tbody>\n",
              "    <tr>\n",
              "      <th>0</th>\n",
              "      <td>라운드랩 1025 독도 토너</td>\n",
              "      <td>정제수,부틸렌글라이콜,글리세린,펜틸렌글라이콜,프로판다이올,아이리쉬모스추출물,사탕수수...</td>\n",
              "    </tr>\n",
              "    <tr>\n",
              "      <th>1</th>\n",
              "      <td>에스트라 테라크네365 하이드레이션 토너</td>\n",
              "      <td>정제수,부틸렌글라이콜,글리세린,녹차추출물,나이아신아마이드,프로판디올,페녹시에탄올,잔...</td>\n",
              "    </tr>\n",
              "    <tr>\n",
              "      <th>2</th>\n",
              "      <td>닥터지 레드 블레미쉬 클리어 수딩 토너</td>\n",
              "      <td>정제수,다이프로필렌글라이콜,프로판다이올,펜틸렌글라이콜,나이아신아마이드,부틸렌글라이콜...</td>\n",
              "    </tr>\n",
              "    <tr>\n",
              "      <th>3</th>\n",
              "      <td>라로슈포제 에빠끌라 H 리밸런싱 하이드레이션 토너</td>\n",
              "      <td>정제수부틸렌글라이콜피이지-8글리세린소듐피씨에이피이지-60하이드로제네이티드캐스터오일살...</td>\n",
              "    </tr>\n",
              "    <tr>\n",
              "      <th>4</th>\n",
              "      <td>아비브 어성초 카밍 토너 스킨부스터</td>\n",
              "      <td>정제수,약모밀추출물,글리세린,부틸렌글라이콜,펜틸렌글라이콜,자일리톨,비피다발효용해물,...</td>\n",
              "    </tr>\n",
              "    <tr>\n",
              "      <th>...</th>\n",
              "      <td>...</td>\n",
              "      <td>...</td>\n",
              "    </tr>\n",
              "    <tr>\n",
              "      <th>243</th>\n",
              "      <td>CKD 레티노콜라겐 저분자 300 집중크림</td>\n",
              "      <td>수용성콜라겐,글리세린,정제수,사이클로헥사실록세인,프로판다이올,나이아신아마이드,다이카...</td>\n",
              "    </tr>\n",
              "    <tr>\n",
              "      <th>244</th>\n",
              "      <td>CKD 레티노콜라겐 저분자 300 크림</td>\n",
              "      <td>수용성콜라겐,하이드로제네이티드폴리데센,카프릴릭/카프릭트라이글리세라이드,글리세린,펜타...</td>\n",
              "    </tr>\n",
              "    <tr>\n",
              "      <th>245</th>\n",
              "      <td>아워 비건 어성초 시카 크림</td>\n",
              "      <td>정제수,부틸렌글라이콜,약모밀추출물,카프릴릭/카프릭트라이글리세라이드,글리세린,다이카프...</td>\n",
              "    </tr>\n",
              "    <tr>\n",
              "      <th>246</th>\n",
              "      <td>아워 비건 어성초 시카 토너</td>\n",
              "      <td>정제수,약모밀추출물,부틸렌글라이콜,글리세레스-26,글리세린,병풀추출물,밤부사불가리스...</td>\n",
              "    </tr>\n",
              "    <tr>\n",
              "      <th>247</th>\n",
              "      <td>헤라 옴므 에센스 인 스킨</td>\n",
              "      <td>정제수,변성알코올,프로판다이올,글리세레스-26,글리세린,나이아신아마이드,2-헥산다이...</td>\n",
              "    </tr>\n",
              "  </tbody>\n",
              "</table>\n",
              "<p>248 rows × 2 columns</p>\n",
              "</div>\n",
              "      <button class=\"colab-df-convert\" onclick=\"convertToInteractive('df-b0c952e8-ddb9-4a09-bc85-0f253ed02ca0')\"\n",
              "              title=\"Convert this dataframe to an interactive table.\"\n",
              "              style=\"display:none;\">\n",
              "        \n",
              "  <svg xmlns=\"http://www.w3.org/2000/svg\" height=\"24px\"viewBox=\"0 0 24 24\"\n",
              "       width=\"24px\">\n",
              "    <path d=\"M0 0h24v24H0V0z\" fill=\"none\"/>\n",
              "    <path d=\"M18.56 5.44l.94 2.06.94-2.06 2.06-.94-2.06-.94-.94-2.06-.94 2.06-2.06.94zm-11 1L8.5 8.5l.94-2.06 2.06-.94-2.06-.94L8.5 2.5l-.94 2.06-2.06.94zm10 10l.94 2.06.94-2.06 2.06-.94-2.06-.94-.94-2.06-.94 2.06-2.06.94z\"/><path d=\"M17.41 7.96l-1.37-1.37c-.4-.4-.92-.59-1.43-.59-.52 0-1.04.2-1.43.59L10.3 9.45l-7.72 7.72c-.78.78-.78 2.05 0 2.83L4 21.41c.39.39.9.59 1.41.59.51 0 1.02-.2 1.41-.59l7.78-7.78 2.81-2.81c.8-.78.8-2.07 0-2.86zM5.41 20L4 18.59l7.72-7.72 1.47 1.35L5.41 20z\"/>\n",
              "  </svg>\n",
              "      </button>\n",
              "      \n",
              "  <style>\n",
              "    .colab-df-container {\n",
              "      display:flex;\n",
              "      flex-wrap:wrap;\n",
              "      gap: 12px;\n",
              "    }\n",
              "\n",
              "    .colab-df-convert {\n",
              "      background-color: #E8F0FE;\n",
              "      border: none;\n",
              "      border-radius: 50%;\n",
              "      cursor: pointer;\n",
              "      display: none;\n",
              "      fill: #1967D2;\n",
              "      height: 32px;\n",
              "      padding: 0 0 0 0;\n",
              "      width: 32px;\n",
              "    }\n",
              "\n",
              "    .colab-df-convert:hover {\n",
              "      background-color: #E2EBFA;\n",
              "      box-shadow: 0px 1px 2px rgba(60, 64, 67, 0.3), 0px 1px 3px 1px rgba(60, 64, 67, 0.15);\n",
              "      fill: #174EA6;\n",
              "    }\n",
              "\n",
              "    [theme=dark] .colab-df-convert {\n",
              "      background-color: #3B4455;\n",
              "      fill: #D2E3FC;\n",
              "    }\n",
              "\n",
              "    [theme=dark] .colab-df-convert:hover {\n",
              "      background-color: #434B5C;\n",
              "      box-shadow: 0px 1px 3px 1px rgba(0, 0, 0, 0.15);\n",
              "      filter: drop-shadow(0px 1px 2px rgba(0, 0, 0, 0.3));\n",
              "      fill: #FFFFFF;\n",
              "    }\n",
              "  </style>\n",
              "\n",
              "      <script>\n",
              "        const buttonEl =\n",
              "          document.querySelector('#df-b0c952e8-ddb9-4a09-bc85-0f253ed02ca0 button.colab-df-convert');\n",
              "        buttonEl.style.display =\n",
              "          google.colab.kernel.accessAllowed ? 'block' : 'none';\n",
              "\n",
              "        async function convertToInteractive(key) {\n",
              "          const element = document.querySelector('#df-b0c952e8-ddb9-4a09-bc85-0f253ed02ca0');\n",
              "          const dataTable =\n",
              "            await google.colab.kernel.invokeFunction('convertToInteractive',\n",
              "                                                     [key], {});\n",
              "          if (!dataTable) return;\n",
              "\n",
              "          const docLinkHtml = 'Like what you see? Visit the ' +\n",
              "            '<a target=\"_blank\" href=https://colab.research.google.com/notebooks/data_table.ipynb>data table notebook</a>'\n",
              "            + ' to learn more about interactive tables.';\n",
              "          element.innerHTML = '';\n",
              "          dataTable['output_type'] = 'display_data';\n",
              "          await google.colab.output.renderOutput(dataTable, element);\n",
              "          const docLink = document.createElement('div');\n",
              "          docLink.innerHTML = docLinkHtml;\n",
              "          element.appendChild(docLink);\n",
              "        }\n",
              "      </script>\n",
              "    </div>\n",
              "  </div>\n",
              "  "
            ]
          },
          "metadata": {},
          "execution_count": 148
        }
      ]
    },
    {
      "cell_type": "code",
      "source": [
        "#for tit in title:\n",
        "  #component[tit][]\n",
        "component[component['title'] =='라운드랩 1025 독도 토너'] "
      ],
      "metadata": {
        "colab": {
          "base_uri": "https://localhost:8080/",
          "height": 81
        },
        "id": "LDWxNa5mdgHv",
        "outputId": "78f42423-d321-474b-b8ed-14653b215eed"
      },
      "execution_count": null,
      "outputs": [
        {
          "output_type": "execute_result",
          "data": {
            "text/plain": [
              "             title                                         components\n",
              "0  라운드랩 1025 독도 토너  정제수,부틸렌글라이콜,글리세린,펜틸렌글라이콜,프로판다이올,아이리쉬모스추출물,사탕수수..."
            ],
            "text/html": [
              "\n",
              "  <div id=\"df-13765251-09d5-4a2e-840e-27d98c9628cb\">\n",
              "    <div class=\"colab-df-container\">\n",
              "      <div>\n",
              "<style scoped>\n",
              "    .dataframe tbody tr th:only-of-type {\n",
              "        vertical-align: middle;\n",
              "    }\n",
              "\n",
              "    .dataframe tbody tr th {\n",
              "        vertical-align: top;\n",
              "    }\n",
              "\n",
              "    .dataframe thead th {\n",
              "        text-align: right;\n",
              "    }\n",
              "</style>\n",
              "<table border=\"1\" class=\"dataframe\">\n",
              "  <thead>\n",
              "    <tr style=\"text-align: right;\">\n",
              "      <th></th>\n",
              "      <th>title</th>\n",
              "      <th>components</th>\n",
              "    </tr>\n",
              "  </thead>\n",
              "  <tbody>\n",
              "    <tr>\n",
              "      <th>0</th>\n",
              "      <td>라운드랩 1025 독도 토너</td>\n",
              "      <td>정제수,부틸렌글라이콜,글리세린,펜틸렌글라이콜,프로판다이올,아이리쉬모스추출물,사탕수수...</td>\n",
              "    </tr>\n",
              "  </tbody>\n",
              "</table>\n",
              "</div>\n",
              "      <button class=\"colab-df-convert\" onclick=\"convertToInteractive('df-13765251-09d5-4a2e-840e-27d98c9628cb')\"\n",
              "              title=\"Convert this dataframe to an interactive table.\"\n",
              "              style=\"display:none;\">\n",
              "        \n",
              "  <svg xmlns=\"http://www.w3.org/2000/svg\" height=\"24px\"viewBox=\"0 0 24 24\"\n",
              "       width=\"24px\">\n",
              "    <path d=\"M0 0h24v24H0V0z\" fill=\"none\"/>\n",
              "    <path d=\"M18.56 5.44l.94 2.06.94-2.06 2.06-.94-2.06-.94-.94-2.06-.94 2.06-2.06.94zm-11 1L8.5 8.5l.94-2.06 2.06-.94-2.06-.94L8.5 2.5l-.94 2.06-2.06.94zm10 10l.94 2.06.94-2.06 2.06-.94-2.06-.94-.94-2.06-.94 2.06-2.06.94z\"/><path d=\"M17.41 7.96l-1.37-1.37c-.4-.4-.92-.59-1.43-.59-.52 0-1.04.2-1.43.59L10.3 9.45l-7.72 7.72c-.78.78-.78 2.05 0 2.83L4 21.41c.39.39.9.59 1.41.59.51 0 1.02-.2 1.41-.59l7.78-7.78 2.81-2.81c.8-.78.8-2.07 0-2.86zM5.41 20L4 18.59l7.72-7.72 1.47 1.35L5.41 20z\"/>\n",
              "  </svg>\n",
              "      </button>\n",
              "      \n",
              "  <style>\n",
              "    .colab-df-container {\n",
              "      display:flex;\n",
              "      flex-wrap:wrap;\n",
              "      gap: 12px;\n",
              "    }\n",
              "\n",
              "    .colab-df-convert {\n",
              "      background-color: #E8F0FE;\n",
              "      border: none;\n",
              "      border-radius: 50%;\n",
              "      cursor: pointer;\n",
              "      display: none;\n",
              "      fill: #1967D2;\n",
              "      height: 32px;\n",
              "      padding: 0 0 0 0;\n",
              "      width: 32px;\n",
              "    }\n",
              "\n",
              "    .colab-df-convert:hover {\n",
              "      background-color: #E2EBFA;\n",
              "      box-shadow: 0px 1px 2px rgba(60, 64, 67, 0.3), 0px 1px 3px 1px rgba(60, 64, 67, 0.15);\n",
              "      fill: #174EA6;\n",
              "    }\n",
              "\n",
              "    [theme=dark] .colab-df-convert {\n",
              "      background-color: #3B4455;\n",
              "      fill: #D2E3FC;\n",
              "    }\n",
              "\n",
              "    [theme=dark] .colab-df-convert:hover {\n",
              "      background-color: #434B5C;\n",
              "      box-shadow: 0px 1px 3px 1px rgba(0, 0, 0, 0.15);\n",
              "      filter: drop-shadow(0px 1px 2px rgba(0, 0, 0, 0.3));\n",
              "      fill: #FFFFFF;\n",
              "    }\n",
              "  </style>\n",
              "\n",
              "      <script>\n",
              "        const buttonEl =\n",
              "          document.querySelector('#df-13765251-09d5-4a2e-840e-27d98c9628cb button.colab-df-convert');\n",
              "        buttonEl.style.display =\n",
              "          google.colab.kernel.accessAllowed ? 'block' : 'none';\n",
              "\n",
              "        async function convertToInteractive(key) {\n",
              "          const element = document.querySelector('#df-13765251-09d5-4a2e-840e-27d98c9628cb');\n",
              "          const dataTable =\n",
              "            await google.colab.kernel.invokeFunction('convertToInteractive',\n",
              "                                                     [key], {});\n",
              "          if (!dataTable) return;\n",
              "\n",
              "          const docLinkHtml = 'Like what you see? Visit the ' +\n",
              "            '<a target=\"_blank\" href=https://colab.research.google.com/notebooks/data_table.ipynb>data table notebook</a>'\n",
              "            + ' to learn more about interactive tables.';\n",
              "          element.innerHTML = '';\n",
              "          dataTable['output_type'] = 'display_data';\n",
              "          await google.colab.output.renderOutput(dataTable, element);\n",
              "          const docLink = document.createElement('div');\n",
              "          docLink.innerHTML = docLinkHtml;\n",
              "          element.appendChild(docLink);\n",
              "        }\n",
              "      </script>\n",
              "    </div>\n",
              "  </div>\n",
              "  "
            ]
          },
          "metadata": {},
          "execution_count": 139
        }
      ]
    },
    {
      "cell_type": "code",
      "source": [
        "component.loc[[0],['components']]\n"
      ],
      "metadata": {
        "colab": {
          "base_uri": "https://localhost:8080/",
          "height": 81
        },
        "id": "W8MdernTdAwk",
        "outputId": "fde8e393-abfb-4567-cc7b-4ea363bc869c"
      },
      "execution_count": null,
      "outputs": [
        {
          "output_type": "execute_result",
          "data": {
            "text/plain": [
              "                                          components\n",
              "0  정제수,부틸렌글라이콜,글리세린,펜틸렌글라이콜,프로판다이올,아이리쉬모스추출물,사탕수수..."
            ],
            "text/html": [
              "\n",
              "  <div id=\"df-5d18bb1a-dc12-4a8c-866e-8db996a1d65f\">\n",
              "    <div class=\"colab-df-container\">\n",
              "      <div>\n",
              "<style scoped>\n",
              "    .dataframe tbody tr th:only-of-type {\n",
              "        vertical-align: middle;\n",
              "    }\n",
              "\n",
              "    .dataframe tbody tr th {\n",
              "        vertical-align: top;\n",
              "    }\n",
              "\n",
              "    .dataframe thead th {\n",
              "        text-align: right;\n",
              "    }\n",
              "</style>\n",
              "<table border=\"1\" class=\"dataframe\">\n",
              "  <thead>\n",
              "    <tr style=\"text-align: right;\">\n",
              "      <th></th>\n",
              "      <th>components</th>\n",
              "    </tr>\n",
              "  </thead>\n",
              "  <tbody>\n",
              "    <tr>\n",
              "      <th>0</th>\n",
              "      <td>정제수,부틸렌글라이콜,글리세린,펜틸렌글라이콜,프로판다이올,아이리쉬모스추출물,사탕수수...</td>\n",
              "    </tr>\n",
              "  </tbody>\n",
              "</table>\n",
              "</div>\n",
              "      <button class=\"colab-df-convert\" onclick=\"convertToInteractive('df-5d18bb1a-dc12-4a8c-866e-8db996a1d65f')\"\n",
              "              title=\"Convert this dataframe to an interactive table.\"\n",
              "              style=\"display:none;\">\n",
              "        \n",
              "  <svg xmlns=\"http://www.w3.org/2000/svg\" height=\"24px\"viewBox=\"0 0 24 24\"\n",
              "       width=\"24px\">\n",
              "    <path d=\"M0 0h24v24H0V0z\" fill=\"none\"/>\n",
              "    <path d=\"M18.56 5.44l.94 2.06.94-2.06 2.06-.94-2.06-.94-.94-2.06-.94 2.06-2.06.94zm-11 1L8.5 8.5l.94-2.06 2.06-.94-2.06-.94L8.5 2.5l-.94 2.06-2.06.94zm10 10l.94 2.06.94-2.06 2.06-.94-2.06-.94-.94-2.06-.94 2.06-2.06.94z\"/><path d=\"M17.41 7.96l-1.37-1.37c-.4-.4-.92-.59-1.43-.59-.52 0-1.04.2-1.43.59L10.3 9.45l-7.72 7.72c-.78.78-.78 2.05 0 2.83L4 21.41c.39.39.9.59 1.41.59.51 0 1.02-.2 1.41-.59l7.78-7.78 2.81-2.81c.8-.78.8-2.07 0-2.86zM5.41 20L4 18.59l7.72-7.72 1.47 1.35L5.41 20z\"/>\n",
              "  </svg>\n",
              "      </button>\n",
              "      \n",
              "  <style>\n",
              "    .colab-df-container {\n",
              "      display:flex;\n",
              "      flex-wrap:wrap;\n",
              "      gap: 12px;\n",
              "    }\n",
              "\n",
              "    .colab-df-convert {\n",
              "      background-color: #E8F0FE;\n",
              "      border: none;\n",
              "      border-radius: 50%;\n",
              "      cursor: pointer;\n",
              "      display: none;\n",
              "      fill: #1967D2;\n",
              "      height: 32px;\n",
              "      padding: 0 0 0 0;\n",
              "      width: 32px;\n",
              "    }\n",
              "\n",
              "    .colab-df-convert:hover {\n",
              "      background-color: #E2EBFA;\n",
              "      box-shadow: 0px 1px 2px rgba(60, 64, 67, 0.3), 0px 1px 3px 1px rgba(60, 64, 67, 0.15);\n",
              "      fill: #174EA6;\n",
              "    }\n",
              "\n",
              "    [theme=dark] .colab-df-convert {\n",
              "      background-color: #3B4455;\n",
              "      fill: #D2E3FC;\n",
              "    }\n",
              "\n",
              "    [theme=dark] .colab-df-convert:hover {\n",
              "      background-color: #434B5C;\n",
              "      box-shadow: 0px 1px 3px 1px rgba(0, 0, 0, 0.15);\n",
              "      filter: drop-shadow(0px 1px 2px rgba(0, 0, 0, 0.3));\n",
              "      fill: #FFFFFF;\n",
              "    }\n",
              "  </style>\n",
              "\n",
              "      <script>\n",
              "        const buttonEl =\n",
              "          document.querySelector('#df-5d18bb1a-dc12-4a8c-866e-8db996a1d65f button.colab-df-convert');\n",
              "        buttonEl.style.display =\n",
              "          google.colab.kernel.accessAllowed ? 'block' : 'none';\n",
              "\n",
              "        async function convertToInteractive(key) {\n",
              "          const element = document.querySelector('#df-5d18bb1a-dc12-4a8c-866e-8db996a1d65f');\n",
              "          const dataTable =\n",
              "            await google.colab.kernel.invokeFunction('convertToInteractive',\n",
              "                                                     [key], {});\n",
              "          if (!dataTable) return;\n",
              "\n",
              "          const docLinkHtml = 'Like what you see? Visit the ' +\n",
              "            '<a target=\"_blank\" href=https://colab.research.google.com/notebooks/data_table.ipynb>data table notebook</a>'\n",
              "            + ' to learn more about interactive tables.';\n",
              "          element.innerHTML = '';\n",
              "          dataTable['output_type'] = 'display_data';\n",
              "          await google.colab.output.renderOutput(dataTable, element);\n",
              "          const docLink = document.createElement('div');\n",
              "          docLink.innerHTML = docLinkHtml;\n",
              "          element.appendChild(docLink);\n",
              "        }\n",
              "      </script>\n",
              "    </div>\n",
              "  </div>\n",
              "  "
            ]
          },
          "metadata": {},
          "execution_count": 144
        }
      ]
    },
    {
      "cell_type": "code",
      "source": [
        "component['components'][0]"
      ],
      "metadata": {
        "colab": {
          "base_uri": "https://localhost:8080/",
          "height": 35
        },
        "id": "2CL49vine8OC",
        "outputId": "053c37a7-59b4-47ed-d457-39466750fe63"
      },
      "execution_count": null,
      "outputs": [
        {
          "output_type": "execute_result",
          "data": {
            "text/plain": [
              "'정제수,부틸렌글라이콜,글리세린,펜틸렌글라이콜,프로판다이올,아이리쉬모스추출물,사탕수수추출물,해수,2-헥산다이올,프로테아제,베타인,판테놀,에틸헥실글리세린,알란토인,잔탄검,다이소듐이디티에이'"
            ],
            "application/vnd.google.colaboratory.intrinsic+json": {
              "type": "string"
            }
          },
          "metadata": {},
          "execution_count": 98
        }
      ]
    },
    {
      "cell_type": "code",
      "source": [
        "df_comps['components'][6]"
      ],
      "metadata": {
        "colab": {
          "base_uri": "https://localhost:8080/",
          "height": 54
        },
        "id": "fD95lW2iMpnh",
        "outputId": "86bead52-76a7-4cfa-c27f-5ef0218de458"
      },
      "execution_count": null,
      "outputs": [
        {
          "output_type": "execute_result",
          "data": {
            "text/plain": [
              "'정제수,다마스크장미꽃수,글리세린,에탄올,관중추출물,실새삼씨추출물,다마스크장미꽃오일,만난,알란토인,소듐하이알루로네이트,화이트윌로우잎추출물,올리브잎추출물,병풀추출물,베타-글루칸,감초추출물,쇠뜨기추출물,서양유채추출물,어성초추출물,밤껍질추출물,오배자추출물,황금추출물,모란뿌리추출물아이소이에서사용하는에탄올은식물발효성분입니다.'"
            ],
            "application/vnd.google.colaboratory.intrinsic+json": {
              "type": "string"
            }
          },
          "metadata": {},
          "execution_count": 5
        }
      ]
    },
    {
      "cell_type": "code",
      "source": [
        "df_comps['components'][6] = re.sub('\\([^)]*\\)','',df_comps['components'][6])\n",
        "df_comps['components'][6]"
      ],
      "metadata": {
        "colab": {
          "base_uri": "https://localhost:8080/",
          "height": 54
        },
        "id": "qkbNaiyaM2sy",
        "outputId": "a0b24848-dee1-4c03-87aa-6a40ef96a9f6"
      },
      "execution_count": null,
      "outputs": [
        {
          "output_type": "execute_result",
          "data": {
            "text/plain": [
              "'정제수,다마스크장미꽃수,글리세린,에탄올,관중추출물,실새삼씨추출물,다마스크장미꽃오일,만난,알란토인,소듐하이알루로네이트,화이트윌로우잎추출물,올리브잎추출물,병풀추출물,베타-글루칸,감초추출물,쇠뜨기추출물,서양유채추출물,어성초추출물,밤껍질추출물,오배자추출물,황금추출물,모란뿌리추출물아이소이에서사용하는에탄올은식물발효성분입니다.'"
            ],
            "application/vnd.google.colaboratory.intrinsic+json": {
              "type": "string"
            }
          },
          "metadata": {},
          "execution_count": 6
        }
      ]
    },
    {
      "cell_type": "code",
      "source": [
        "df_comps['components'][12]"
      ],
      "metadata": {
        "id": "R43nDiyMl8gW",
        "colab": {
          "base_uri": "https://localhost:8080/",
          "height": 72
        },
        "outputId": "3a0f7a75-57a4-47f4-8d3d-a558287fd41e"
      },
      "execution_count": null,
      "outputs": [
        {
          "output_type": "execute_result",
          "data": {
            "text/plain": [
              "'정제수,글리세린,마카다미아씨오일,스쿠알란,카프릴릭/카프릭트라이글리세라이드,펜타에리스리틸테트라아이소스테아레이트,세틸에틸헥사노에이트,트레할로오스,베타인,글리세릴스테아레이트,세테아릴알코올,알부틴,스테아릭애씨드,아라키딜알코올,메도우폼씨오일,솔비탄스테아레이트,다마스크장미꽃오일,시어버터,호호바씨오일,올리브오일,베헤닐알코올,아라키딜글루코사이드,다마스크장미꽃수,세라마이드엔피,아데노신,잔탄검,알란토인,팔미토일트라이펩타이드-5,참마뿌리추출물,밤껍질추출물,아세로라추출물,몰로키아잎추출물,브로콜리추출물,로즈마리추출물,니아울리나무잎오일,마트리카리아꽃/잎추출물,병풀추출물,락토바실러스/콩발효추출물,흰목이버섯추출물,황련뿌리추출물,부틸렌글라이콜,2-헥산다이올,스페인감초뿌리추출물,황금추출물,모란뿌리추출물,시트로넬올,제라니올,파네솔,유제놀,리날룰'"
            ],
            "application/vnd.google.colaboratory.intrinsic+json": {
              "type": "string"
            }
          },
          "metadata": {},
          "execution_count": 7
        }
      ]
    },
    {
      "cell_type": "code",
      "source": [
        "df_comps['components'][12] = df_comps['components'][12].split('CeramidinComplex™')[0]"
      ],
      "metadata": {
        "id": "HD0uIsH4QMEm"
      },
      "execution_count": null,
      "outputs": []
    },
    {
      "cell_type": "code",
      "source": [
        "df_comps['components'][31]"
      ],
      "metadata": {
        "colab": {
          "base_uri": "https://localhost:8080/",
          "height": 35
        },
        "id": "2FNQutIcQX3h",
        "outputId": "46787f3b-ae63-42a8-fe5b-0a71a804a5a3"
      },
      "execution_count": null,
      "outputs": [
        {
          "output_type": "execute_result",
          "data": {
            "text/plain": [
              "'병풀추출물,부틸렌글라이콜,2-헥산다이올'"
            ],
            "application/vnd.google.colaboratory.intrinsic+json": {
              "type": "string"
            }
          },
          "metadata": {},
          "execution_count": 9
        }
      ]
    },
    {
      "cell_type": "code",
      "source": [
        "df_comps['components'][31] = df_comps['components'][31].split(':')[1]"
      ],
      "metadata": {
        "id": "t0Ef5E3hTLjW"
      },
      "execution_count": null,
      "outputs": []
    },
    {
      "cell_type": "code",
      "source": [
        "df_comps['components'][72]"
      ],
      "metadata": {
        "colab": {
          "base_uri": "https://localhost:8080/",
          "height": 35
        },
        "id": "n8Y5eVXNTiiK",
        "outputId": "6a9cfb8d-4712-4bcd-ac96-d6f7e335c936"
      },
      "execution_count": null,
      "outputs": [
        {
          "output_type": "execute_result",
          "data": {
            "text/plain": [
              "'정제수,프로판다이올,글리세린,2-헥산다이올,만니톨,나이아신아마이드,알란토인,멘톡시프로판다이올,에틸헥실글리세린,카보머,다이소듐이디티에이,소듐하이알루로네이트,글루코노락톤,토코페롤'"
            ],
            "application/vnd.google.colaboratory.intrinsic+json": {
              "type": "string"
            }
          },
          "metadata": {},
          "execution_count": 13
        }
      ]
    },
    {
      "cell_type": "code",
      "source": [
        "df_comps['components'][72] = df_comps['components'][72].split('※')[0]"
      ],
      "metadata": {
        "id": "pcJRjl2VUNUY"
      },
      "execution_count": null,
      "outputs": []
    },
    {
      "cell_type": "code",
      "source": [
        "df_comps['components'][78]"
      ],
      "metadata": {
        "colab": {
          "base_uri": "https://localhost:8080/",
          "height": 54
        },
        "id": "FtEwQypZnC6F",
        "outputId": "314320d9-8737-4780-d620-8eea4bc02c1d"
      },
      "execution_count": null,
      "outputs": [
        {
          "output_type": "execute_result",
          "data": {
            "text/plain": [
              "'정제수,부틸렌글라이콜,글리세린,2-헥산다이올,흰버드나무껍질추출물,에틸헥실글리세린,피피지-13-데실테트라데세스-24,콘민트잎추출물,빌베리열매추출물,다이소듐이디티에이,사탕수수추출물,마데카소사이드,콘민트오일,글루코노락톤,오렌지추출물,레몬추출물,설탕단풍추출물,토코페롤,향료'"
            ],
            "application/vnd.google.colaboratory.intrinsic+json": {
              "type": "string"
            }
          },
          "metadata": {},
          "execution_count": 15
        }
      ]
    },
    {
      "cell_type": "code",
      "source": [
        "df_comps['components'][78] = df_comps['components'][78].split(',SuperCica7™10,000PPM')[0]"
      ],
      "metadata": {
        "id": "I75YHOXKnkGL"
      },
      "execution_count": null,
      "outputs": []
    },
    {
      "cell_type": "code",
      "source": [
        "df_comps['components'][83]"
      ],
      "metadata": {
        "colab": {
          "base_uri": "https://localhost:8080/",
          "height": 35
        },
        "id": "qGEvC2MKURx8",
        "outputId": "67e31b5a-73ec-40e3-e19f-53e88ca89082"
      },
      "execution_count": null,
      "outputs": [
        {
          "output_type": "execute_result",
          "data": {
            "text/plain": [
              "'정제수,글리세린,프로판다이올,편백잎추출물*,2-헥산다이올,베타인,글리세레스-26,판테놀,에틸헥실글리세린,하이드롤라이즈드하이알루로닉애씨드,카보머,트로메타민,다이소듐이디티에이,알란토인,흰버드나무껍질추출물*,펜틸렌글라이콜,마데카소사이드,토코페롤'"
            ],
            "application/vnd.google.colaboratory.intrinsic+json": {
              "type": "string"
            }
          },
          "metadata": {},
          "execution_count": 17
        }
      ]
    },
    {
      "cell_type": "code",
      "source": [
        "df_comps['components'][83] = df_comps['components'][83].split('.')[0]"
      ],
      "metadata": {
        "id": "Xltb32XgU7dk"
      },
      "execution_count": null,
      "outputs": []
    },
    {
      "cell_type": "code",
      "source": [
        "df_comps['components'][114]"
      ],
      "metadata": {
        "colab": {
          "base_uri": "https://localhost:8080/",
          "height": 35
        },
        "id": "emhTO7JbmqPj",
        "outputId": "be4b5bda-f765-47f6-99e6-30c96968a53e"
      },
      "execution_count": null,
      "outputs": [
        {
          "output_type": "execute_result",
          "data": {
            "text/plain": [
              "'정제수,부틸렌글라이콜,에탄올,다이프로필렌글라이콜,코코넛야자수,1,2-헥산다이올,글리세린,피이지-60하이드로제네이티드캐스터오일,갈락토미세스발효여과물,베타인,소듐하이알루로네이트,향료,리모넨,페녹시에탄올,살리실릭애씨드,다이소듐이디티에이,에틸헥실글리세린'"
            ],
            "application/vnd.google.colaboratory.intrinsic+json": {
              "type": "string"
            }
          },
          "metadata": {},
          "execution_count": 19
        }
      ]
    },
    {
      "cell_type": "code",
      "source": [
        "df_comps['components'][114] = df_comps['components'][114].split('Extract')[0]"
      ],
      "metadata": {
        "id": "cxhI_r4koYmr"
      },
      "execution_count": null,
      "outputs": []
    },
    {
      "cell_type": "code",
      "source": [
        "df_comps['components'][146]"
      ],
      "metadata": {
        "colab": {
          "base_uri": "https://localhost:8080/",
          "height": 35
        },
        "id": "_4sTyJEuqiLT",
        "outputId": "113f9eff-e6c4-47ee-bd32-a97e18d7697f"
      },
      "execution_count": null,
      "outputs": [
        {
          "output_type": "execute_result",
          "data": {
            "text/plain": [
              "'포트마리골드꽃추출물'"
            ],
            "application/vnd.google.colaboratory.intrinsic+json": {
              "type": "string"
            }
          },
          "metadata": {},
          "execution_count": 21
        }
      ]
    },
    {
      "cell_type": "code",
      "source": [
        "df_comps['components'][146] = df_comps['components'][146].split('제공된')[0]"
      ],
      "metadata": {
        "id": "UmtH5ip8qlpM"
      },
      "execution_count": null,
      "outputs": []
    },
    {
      "cell_type": "code",
      "source": [
        "df_comps['components'][147]"
      ],
      "metadata": {
        "colab": {
          "base_uri": "https://localhost:8080/",
          "height": 72
        },
        "id": "nFJUQ8B1qtuC",
        "outputId": "2028987b-7ef9-4c3a-87b2-42d26ba46e78"
      },
      "execution_count": null,
      "outputs": [
        {
          "output_type": "execute_result",
          "data": {
            "text/plain": [
              "'정제수,다이프로필렌글라이콜,펜틸렌글라이콜,트라이에틸시트레이트,아이리쉬모스추출물,자일리톨,사탕수수추출물,아틀라스시다나무껍질오일,서양벌노랑이씨추출물,백미꽃추출물,파스향나무잎추출물,로즈마리잎오일,접시꽃추출물,클레리오일,캐모마일꽃오일,소듐하이알루로네이트,하이드롤라이즈드하이알루로닉애씨드,하이알루로닉애씨드,부틸렌글라이콜,판테놀,베타인,폴리글리세릴-2올리에이트,글리세린,다이페닐다이메티콘,트라이에틸헥사노인,에틸헥실글리세린,다이포타슘글리시리제이트,소듐시트레이트,석시닉애씨드,2-헥산다이올,하이드로제네이티드레시틴,시트릭애씨드,트로메타민,토코페롤,하이드록시프로필트라이모늄하이알루로네이트,소듐아세틸레이티드하이알루로네이트,하이드롤라이즈드소듐하이알루로네이트,소듐하이알루로네이트크로스폴리머,포타슘하이알루로네이트,카보머'"
            ],
            "application/vnd.google.colaboratory.intrinsic+json": {
              "type": "string"
            }
          },
          "metadata": {},
          "execution_count": 23
        }
      ]
    },
    {
      "cell_type": "code",
      "source": [
        "df_comps['components'][147] = df_comps['components'][147].split('제공된')[0]"
      ],
      "metadata": {
        "id": "FwpLJ3Vzqtay"
      },
      "execution_count": null,
      "outputs": []
    },
    {
      "cell_type": "code",
      "source": [
        "df_comps['components'][170]"
      ],
      "metadata": {
        "colab": {
          "base_uri": "https://localhost:8080/",
          "height": 90
        },
        "id": "c57KhO-ypNq7",
        "outputId": "a07940e8-3811-48d8-edbb-81c392205075"
      },
      "execution_count": null,
      "outputs": [
        {
          "output_type": "execute_result",
          "data": {
            "text/plain": [
              "'알로에베라잎추출물,병풀추출물,글리세린,부틸렌글라이콜,나이아신아마이드,다이프로필렌글라이콜,베타인,트레할로오스,판테놀,바이오사카라이드검-1,시트릭애씨드,비피다발효여과물,매실추출물,연꽃추출물,하이드로제네이티드레시틴,마카다미아씨오일,살비아잎추출물,라벤더꽃추출물,로즈마리추출물,마트리카리아꽃추출물,카멜그라스추출물,세라마이드엔피,스쿠알란,세테아릴알코올,소듐하이알루로네이트,소듐하이알루로네이트크로스폴리머,하이드롤라이즈드하이알루로닉애씨드,하이알루로닉애씨드,하이드롤라이즈드소듐하이알루로네이트,망고추출물,얼룩파인애플추출물,락토바실러스발효물,폴리글리세릴-10올리에이트,아시아티코사이드,마데카식애씨드,아시아틱애씨드,하이드록시에틸아크릴레이트/소듐아크릴로일다이메틸타우레이트코폴리머,카보머,트로메타민,다이소듐이디티에이,하이드록시아세토페논,2-헥산다이올,에틸헥실글리세린'"
            ],
            "application/vnd.google.colaboratory.intrinsic+json": {
              "type": "string"
            }
          },
          "metadata": {},
          "execution_count": 25
        }
      ]
    },
    {
      "cell_type": "code",
      "source": [
        "df_comps['components'][170] = df_comps['components'][170].split(':')[1]"
      ],
      "metadata": {
        "id": "xVfCSGBjpQ6q",
        "colab": {
          "base_uri": "https://localhost:8080/",
          "height": 174
        },
        "outputId": "f08f681c-8b75-4e63-aae6-982bb44a3b8e"
      },
      "execution_count": null,
      "outputs": [
        {
          "output_type": "error",
          "ename": "IndexError",
          "evalue": "ignored",
          "traceback": [
            "\u001b[0;31m---------------------------------------------------------------------------\u001b[0m",
            "\u001b[0;31mIndexError\u001b[0m                                Traceback (most recent call last)",
            "\u001b[0;32m<ipython-input-26-78727d1f90d5>\u001b[0m in \u001b[0;36m<module>\u001b[0;34m()\u001b[0m\n\u001b[0;32m----> 1\u001b[0;31m \u001b[0mdf_comps\u001b[0m\u001b[0;34m[\u001b[0m\u001b[0;34m'components'\u001b[0m\u001b[0;34m]\u001b[0m\u001b[0;34m[\u001b[0m\u001b[0;36m170\u001b[0m\u001b[0;34m]\u001b[0m \u001b[0;34m=\u001b[0m \u001b[0mdf_comps\u001b[0m\u001b[0;34m[\u001b[0m\u001b[0;34m'components'\u001b[0m\u001b[0;34m]\u001b[0m\u001b[0;34m[\u001b[0m\u001b[0;36m170\u001b[0m\u001b[0;34m]\u001b[0m\u001b[0;34m.\u001b[0m\u001b[0msplit\u001b[0m\u001b[0;34m(\u001b[0m\u001b[0;34m':'\u001b[0m\u001b[0;34m)\u001b[0m\u001b[0;34m[\u001b[0m\u001b[0;36m1\u001b[0m\u001b[0;34m]\u001b[0m\u001b[0;34m\u001b[0m\u001b[0;34m\u001b[0m\u001b[0m\n\u001b[0m",
            "\u001b[0;31mIndexError\u001b[0m: list index out of range"
          ]
        }
      ]
    },
    {
      "cell_type": "code",
      "source": [
        "df_comps['components'][184]"
      ],
      "metadata": {
        "colab": {
          "base_uri": "https://localhost:8080/",
          "height": 54
        },
        "id": "cnEbTQ8RU_wL",
        "outputId": "c62a8a5a-0f3f-4c79-d930-1cebcac6d473"
      },
      "execution_count": null,
      "outputs": [
        {
          "output_type": "execute_result",
          "data": {
            "text/plain": [
              "'정제수,베타인,글리세린,프로판다이올,흑미추출물,죽순껍질추출물,아스퍼질러스발효물,홍삼추출물,사이클로덱스트린,황금추출물,하이알루로닉애씨드,베타-글루칸,셀룰로오스검,잔탄검,부틸렌글라이콜,우스니아추출물,초피나무열매추출물,할미꽃추출물,소듐파이테이트,타마린드씨검,폴리글리세릴-10라우레이트,폴리글리세릴-10미리스테이트,글루코오스,2-헥산다이올,에탄올,라벤더오일'"
            ],
            "application/vnd.google.colaboratory.intrinsic+json": {
              "type": "string"
            }
          },
          "metadata": {},
          "execution_count": 27
        }
      ]
    },
    {
      "cell_type": "code",
      "source": [
        "df_comps['components'][184] = df_comps['components'][184].replace('4,', '4')\n",
        "df_comps['components'][184]"
      ],
      "metadata": {
        "colab": {
          "base_uri": "https://localhost:8080/",
          "height": 54
        },
        "id": "pqU0tCJcZTOs",
        "outputId": "8dbe426e-ee38-48cc-bb4f-f6e2bd9f37cd"
      },
      "execution_count": null,
      "outputs": [
        {
          "output_type": "execute_result",
          "data": {
            "text/plain": [
              "'정제수,베타인,글리세린,프로판다이올,흑미추출물,죽순껍질추출물,아스퍼질러스발효물,홍삼추출물,사이클로덱스트린,황금추출물,하이알루로닉애씨드,베타-글루칸,셀룰로오스검,잔탄검,부틸렌글라이콜,우스니아추출물,초피나무열매추출물,할미꽃추출물,소듐파이테이트,타마린드씨검,폴리글리세릴-10라우레이트,폴리글리세릴-10미리스테이트,글루코오스,2-헥산다이올,에탄올,라벤더오일'"
            ],
            "application/vnd.google.colaboratory.intrinsic+json": {
              "type": "string"
            }
          },
          "metadata": {},
          "execution_count": 28
        }
      ]
    },
    {
      "cell_type": "code",
      "source": [
        "for i in range(len(title)):\n",
        "  if '<br/>' in df_comps['components'][i] :\n",
        "    df_comps['components'][i] = df_comps['components'][i].replace('<br/>', '')"
      ],
      "metadata": {
        "id": "gUL2Cf7epoKM"
      },
      "execution_count": null,
      "outputs": []
    },
    {
      "cell_type": "code",
      "source": [
        "df_comps['components'][128] = df_comps['components'][128].split('<iln50331>')[0]"
      ],
      "metadata": {
        "id": "_E30z9ldxgVy"
      },
      "execution_count": null,
      "outputs": []
    },
    {
      "cell_type": "code",
      "source": [
        "df_comps['components'][217] = df_comps['components'][217].split('<iln48097>')[0]"
      ],
      "metadata": {
        "id": "Ejtk5r4gxteZ"
      },
      "execution_count": null,
      "outputs": []
    },
    {
      "cell_type": "code",
      "source": [
        "df_comps['components'][224] = df_comps['components'][224].split('<iln48589>')[0]"
      ],
      "metadata": {
        "id": "cgffrH9LyB1p"
      },
      "execution_count": null,
      "outputs": []
    },
    {
      "cell_type": "code",
      "source": [],
      "metadata": {
        "id": "E4DxN2rmx6up"
      },
      "execution_count": null,
      "outputs": []
    },
    {
      "cell_type": "code",
      "source": [
        "df_comps"
      ],
      "metadata": {
        "colab": {
          "base_uri": "https://localhost:8080/",
          "height": 455
        },
        "id": "KYaS7kccvxcM",
        "outputId": "7a9e9fb7-ce70-4832-ddb2-5f1979e74397"
      },
      "execution_count": null,
      "outputs": [
        {
          "output_type": "execute_result",
          "data": {
            "text/plain": [
              "                                                                    components\n",
              "title                                                                         \n",
              "라운드랩 1025 독도 토너              정제수,부틸렌글라이콜,글리세린,펜틸렌글라이콜,프로판다이올,아이리쉬모스추출물,사탕수수...\n",
              "에스트라 테라크네365 하이드레이션 토너       정제수,부틸렌글라이콜,글리세린,녹차추출물,나이아신아마이드,프로판디올,페녹시에탄올,잔...\n",
              "닥터지 레드 블레미쉬 클리어 수딩 토너        정제수,다이프로필렌글라이콜,프로판다이올,펜틸렌글라이콜,나이아신아마이드,부틸렌글라이콜...\n",
              "라로슈포제 에빠끌라 H 리밸런싱 하이드레이션 토너  정제수부틸렌글라이콜피이지-8글리세린소듐피씨에이피이지-60하이드로제네이티드캐스터오일살...\n",
              "아비브 어성초 카밍 토너 스킨부스터          정제수,약모밀추출물,글리세린,부틸렌글라이콜,펜틸렌글라이콜,자일리톨,비피다발효용해물,...\n",
              "...                                                                        ...\n",
              "CKD 레티노콜라겐 저분자 300 집중크림      수용성콜라겐,글리세린,정제수,사이클로헥사실록세인,프로판다이올,나이아신아마이드,다이카...\n",
              "CKD 레티노콜라겐 저분자 300 크림        수용성콜라겐,하이드로제네이티드폴리데센,카프릴릭/카프릭트라이글리세라이드,글리세린,펜타...\n",
              "아워 비건 어성초 시카 크림              정제수,부틸렌글라이콜,약모밀추출물,카프릴릭/카프릭트라이글리세라이드,글리세린,다이카프...\n",
              "아워 비건 어성초 시카 토너              정제수,약모밀추출물,부틸렌글라이콜,글리세레스-26,글리세린,병풀추출물,밤부사불가리스...\n",
              "헤라 옴므 에센스 인 스킨               정제수,변성알코올,프로판다이올,글리세레스-26,글리세린,나이아신아마이드,2-헥산다이...\n",
              "\n",
              "[248 rows x 1 columns]"
            ],
            "text/html": [
              "\n",
              "  <div id=\"df-f8993cf5-95b9-4e9b-b048-ad4231fa8259\">\n",
              "    <div class=\"colab-df-container\">\n",
              "      <div>\n",
              "<style scoped>\n",
              "    .dataframe tbody tr th:only-of-type {\n",
              "        vertical-align: middle;\n",
              "    }\n",
              "\n",
              "    .dataframe tbody tr th {\n",
              "        vertical-align: top;\n",
              "    }\n",
              "\n",
              "    .dataframe thead th {\n",
              "        text-align: right;\n",
              "    }\n",
              "</style>\n",
              "<table border=\"1\" class=\"dataframe\">\n",
              "  <thead>\n",
              "    <tr style=\"text-align: right;\">\n",
              "      <th></th>\n",
              "      <th>components</th>\n",
              "    </tr>\n",
              "    <tr>\n",
              "      <th>title</th>\n",
              "      <th></th>\n",
              "    </tr>\n",
              "  </thead>\n",
              "  <tbody>\n",
              "    <tr>\n",
              "      <th>라운드랩 1025 독도 토너</th>\n",
              "      <td>정제수,부틸렌글라이콜,글리세린,펜틸렌글라이콜,프로판다이올,아이리쉬모스추출물,사탕수수...</td>\n",
              "    </tr>\n",
              "    <tr>\n",
              "      <th>에스트라 테라크네365 하이드레이션 토너</th>\n",
              "      <td>정제수,부틸렌글라이콜,글리세린,녹차추출물,나이아신아마이드,프로판디올,페녹시에탄올,잔...</td>\n",
              "    </tr>\n",
              "    <tr>\n",
              "      <th>닥터지 레드 블레미쉬 클리어 수딩 토너</th>\n",
              "      <td>정제수,다이프로필렌글라이콜,프로판다이올,펜틸렌글라이콜,나이아신아마이드,부틸렌글라이콜...</td>\n",
              "    </tr>\n",
              "    <tr>\n",
              "      <th>라로슈포제 에빠끌라 H 리밸런싱 하이드레이션 토너</th>\n",
              "      <td>정제수부틸렌글라이콜피이지-8글리세린소듐피씨에이피이지-60하이드로제네이티드캐스터오일살...</td>\n",
              "    </tr>\n",
              "    <tr>\n",
              "      <th>아비브 어성초 카밍 토너 스킨부스터</th>\n",
              "      <td>정제수,약모밀추출물,글리세린,부틸렌글라이콜,펜틸렌글라이콜,자일리톨,비피다발효용해물,...</td>\n",
              "    </tr>\n",
              "    <tr>\n",
              "      <th>...</th>\n",
              "      <td>...</td>\n",
              "    </tr>\n",
              "    <tr>\n",
              "      <th>CKD 레티노콜라겐 저분자 300 집중크림</th>\n",
              "      <td>수용성콜라겐,글리세린,정제수,사이클로헥사실록세인,프로판다이올,나이아신아마이드,다이카...</td>\n",
              "    </tr>\n",
              "    <tr>\n",
              "      <th>CKD 레티노콜라겐 저분자 300 크림</th>\n",
              "      <td>수용성콜라겐,하이드로제네이티드폴리데센,카프릴릭/카프릭트라이글리세라이드,글리세린,펜타...</td>\n",
              "    </tr>\n",
              "    <tr>\n",
              "      <th>아워 비건 어성초 시카 크림</th>\n",
              "      <td>정제수,부틸렌글라이콜,약모밀추출물,카프릴릭/카프릭트라이글리세라이드,글리세린,다이카프...</td>\n",
              "    </tr>\n",
              "    <tr>\n",
              "      <th>아워 비건 어성초 시카 토너</th>\n",
              "      <td>정제수,약모밀추출물,부틸렌글라이콜,글리세레스-26,글리세린,병풀추출물,밤부사불가리스...</td>\n",
              "    </tr>\n",
              "    <tr>\n",
              "      <th>헤라 옴므 에센스 인 스킨</th>\n",
              "      <td>정제수,변성알코올,프로판다이올,글리세레스-26,글리세린,나이아신아마이드,2-헥산다이...</td>\n",
              "    </tr>\n",
              "  </tbody>\n",
              "</table>\n",
              "<p>248 rows × 1 columns</p>\n",
              "</div>\n",
              "      <button class=\"colab-df-convert\" onclick=\"convertToInteractive('df-f8993cf5-95b9-4e9b-b048-ad4231fa8259')\"\n",
              "              title=\"Convert this dataframe to an interactive table.\"\n",
              "              style=\"display:none;\">\n",
              "        \n",
              "  <svg xmlns=\"http://www.w3.org/2000/svg\" height=\"24px\"viewBox=\"0 0 24 24\"\n",
              "       width=\"24px\">\n",
              "    <path d=\"M0 0h24v24H0V0z\" fill=\"none\"/>\n",
              "    <path d=\"M18.56 5.44l.94 2.06.94-2.06 2.06-.94-2.06-.94-.94-2.06-.94 2.06-2.06.94zm-11 1L8.5 8.5l.94-2.06 2.06-.94-2.06-.94L8.5 2.5l-.94 2.06-2.06.94zm10 10l.94 2.06.94-2.06 2.06-.94-2.06-.94-.94-2.06-.94 2.06-2.06.94z\"/><path d=\"M17.41 7.96l-1.37-1.37c-.4-.4-.92-.59-1.43-.59-.52 0-1.04.2-1.43.59L10.3 9.45l-7.72 7.72c-.78.78-.78 2.05 0 2.83L4 21.41c.39.39.9.59 1.41.59.51 0 1.02-.2 1.41-.59l7.78-7.78 2.81-2.81c.8-.78.8-2.07 0-2.86zM5.41 20L4 18.59l7.72-7.72 1.47 1.35L5.41 20z\"/>\n",
              "  </svg>\n",
              "      </button>\n",
              "      \n",
              "  <style>\n",
              "    .colab-df-container {\n",
              "      display:flex;\n",
              "      flex-wrap:wrap;\n",
              "      gap: 12px;\n",
              "    }\n",
              "\n",
              "    .colab-df-convert {\n",
              "      background-color: #E8F0FE;\n",
              "      border: none;\n",
              "      border-radius: 50%;\n",
              "      cursor: pointer;\n",
              "      display: none;\n",
              "      fill: #1967D2;\n",
              "      height: 32px;\n",
              "      padding: 0 0 0 0;\n",
              "      width: 32px;\n",
              "    }\n",
              "\n",
              "    .colab-df-convert:hover {\n",
              "      background-color: #E2EBFA;\n",
              "      box-shadow: 0px 1px 2px rgba(60, 64, 67, 0.3), 0px 1px 3px 1px rgba(60, 64, 67, 0.15);\n",
              "      fill: #174EA6;\n",
              "    }\n",
              "\n",
              "    [theme=dark] .colab-df-convert {\n",
              "      background-color: #3B4455;\n",
              "      fill: #D2E3FC;\n",
              "    }\n",
              "\n",
              "    [theme=dark] .colab-df-convert:hover {\n",
              "      background-color: #434B5C;\n",
              "      box-shadow: 0px 1px 3px 1px rgba(0, 0, 0, 0.15);\n",
              "      filter: drop-shadow(0px 1px 2px rgba(0, 0, 0, 0.3));\n",
              "      fill: #FFFFFF;\n",
              "    }\n",
              "  </style>\n",
              "\n",
              "      <script>\n",
              "        const buttonEl =\n",
              "          document.querySelector('#df-f8993cf5-95b9-4e9b-b048-ad4231fa8259 button.colab-df-convert');\n",
              "        buttonEl.style.display =\n",
              "          google.colab.kernel.accessAllowed ? 'block' : 'none';\n",
              "\n",
              "        async function convertToInteractive(key) {\n",
              "          const element = document.querySelector('#df-f8993cf5-95b9-4e9b-b048-ad4231fa8259');\n",
              "          const dataTable =\n",
              "            await google.colab.kernel.invokeFunction('convertToInteractive',\n",
              "                                                     [key], {});\n",
              "          if (!dataTable) return;\n",
              "\n",
              "          const docLinkHtml = 'Like what you see? Visit the ' +\n",
              "            '<a target=\"_blank\" href=https://colab.research.google.com/notebooks/data_table.ipynb>data table notebook</a>'\n",
              "            + ' to learn more about interactive tables.';\n",
              "          element.innerHTML = '';\n",
              "          dataTable['output_type'] = 'display_data';\n",
              "          await google.colab.output.renderOutput(dataTable, element);\n",
              "          const docLink = document.createElement('div');\n",
              "          docLink.innerHTML = docLinkHtml;\n",
              "          element.appendChild(docLink);\n",
              "        }\n",
              "      </script>\n",
              "    </div>\n",
              "  </div>\n",
              "  "
            ]
          },
          "metadata": {},
          "execution_count": 64
        }
      ]
    },
    {
      "cell_type": "markdown",
      "source": [
        "# **3.화장품 도메인 단어 토큰화 전처리 (Customized KoNLPy 라이브러리)**"
      ],
      "metadata": {
        "id": "nLPBvlsNUdEn"
      }
    },
    {
      "cell_type": "code",
      "source": [
        "import pandas as pd"
      ],
      "metadata": {
        "id": "wXwzqdyefWmO"
      },
      "execution_count": null,
      "outputs": []
    },
    {
      "cell_type": "code",
      "source": [
        "!pip install customized_konlpy"
      ],
      "metadata": {
        "colab": {
          "base_uri": "https://localhost:8080/"
        },
        "id": "keIjBerqdvkb",
        "outputId": "1c722e5f-80c5-41cf-f9d4-ed032f8035bb"
      },
      "execution_count": null,
      "outputs": [
        {
          "output_type": "stream",
          "name": "stdout",
          "text": [
            "Looking in indexes: https://pypi.org/simple, https://us-python.pkg.dev/colab-wheels/public/simple/\n",
            "Collecting customized_konlpy\n",
            "  Downloading customized_konlpy-0.0.64-py3-none-any.whl (881 kB)\n",
            "\u001b[K     |████████████████████████████████| 881 kB 24.4 MB/s \n",
            "\u001b[?25hCollecting Jpype1>=0.6.1\n",
            "  Downloading JPype1-1.4.0-cp37-cp37m-manylinux_2_5_x86_64.manylinux1_x86_64.whl (453 kB)\n",
            "\u001b[K     |████████████████████████████████| 453 kB 40.2 MB/s \n",
            "\u001b[?25hCollecting konlpy>=0.4.4\n",
            "  Downloading konlpy-0.6.0-py2.py3-none-any.whl (19.4 MB)\n",
            "\u001b[K     |████████████████████████████████| 19.4 MB 1.3 MB/s \n",
            "\u001b[?25hRequirement already satisfied: typing-extensions in /usr/local/lib/python3.7/dist-packages (from Jpype1>=0.6.1->customized_konlpy) (4.1.1)\n",
            "Requirement already satisfied: numpy>=1.6 in /usr/local/lib/python3.7/dist-packages (from konlpy>=0.4.4->customized_konlpy) (1.21.6)\n",
            "Requirement already satisfied: lxml>=4.1.0 in /usr/local/lib/python3.7/dist-packages (from konlpy>=0.4.4->customized_konlpy) (4.9.1)\n",
            "Installing collected packages: Jpype1, konlpy, customized-konlpy\n",
            "Successfully installed Jpype1-1.4.0 customized-konlpy-0.0.64 konlpy-0.6.0\n"
          ]
        }
      ]
    },
    {
      "cell_type": "code",
      "source": [
        "import ckonlpy\n",
        "from ckonlpy.tag import Twitter"
      ],
      "metadata": {
        "id": "1EAB1XxnO6Y6"
      },
      "execution_count": null,
      "outputs": []
    },
    {
      "cell_type": "code",
      "source": [
        "corpus_df = pd.read_csv('/content/drive/MyDrive/corpus_df.csv')"
      ],
      "metadata": {
        "id": "dVprz3Nsf0sA"
      },
      "execution_count": null,
      "outputs": []
    },
    {
      "cell_type": "code",
      "source": [
        "ing = pd.read_csv('/content/drive/MyDrive/ing_final.csv')"
      ],
      "metadata": {
        "id": "hMseE7cGjTr7"
      },
      "execution_count": null,
      "outputs": []
    },
    {
      "cell_type": "code",
      "source": [
        "f = open('/content/drive/MyDrive/stop_words.txt')\n",
        "stopwords = f.read().split(',')"
      ],
      "metadata": {
        "id": "fg6rhfT-eLfi"
      },
      "execution_count": null,
      "outputs": []
    },
    {
      "cell_type": "code",
      "source": [
        "import re\n",
        "twitter = Twitter()\n",
        "twitter.add_dictionary([i for i in ing['표준 성분명']]+['흡수력', '끈적임', '트러블', '자극적', '내돈내산', '가성비', '사용감', '저자극', '민감성', '화농성', '블랙헤드', '대용량', '리무버', '밀착력', '유튜버', '강추', '수분감', '데일리', '유분기', '정착템', '바디로션', '클렌징오일', '피부결', '스킨팩', '제형', '속건조', '복합성', '지성', '건성', '클렌징워터', '재구매의사', '재구매', '재구매 의사', '닦토', '흡토', '수부지', '화장솜'], 'Noun')\n",
        "twitter.add_dictionary(['가라앉다', '보들보들하다'], 'Adjective')\n",
        "\n",
        "def preprocess(text):\n",
        "\n",
        "  tokens = []\n",
        "\n",
        "  non_kor_chars = re.compile('[^ 가-힣]')\n",
        "  word = non_kor_chars.sub('', text)\n",
        "  token = [t for (t,pos) in twitter.pos(text, stem=True) if pos in ['Noun', 'Verb', 'Adjective'] and t not in stopwords and len(t) > 1]\n",
        "  preprocessed = ' '.join(token)\n",
        "  return preprocessed"
      ],
      "metadata": {
        "colab": {
          "base_uri": "https://localhost:8080/"
        },
        "id": "sSm7jXiWeYm8",
        "outputId": "1429d212-b2b9-46f8-ce09-015d3f326c10"
      },
      "execution_count": null,
      "outputs": [
        {
          "output_type": "stream",
          "name": "stderr",
          "text": [
            "/usr/local/lib/python3.7/dist-packages/konlpy/tag/_okt.py:17: UserWarning: \"Twitter\" has changed to \"Okt\" since KoNLPy v0.4.5.\n",
            "  warn('\"Twitter\" has changed to \"Okt\" since KoNLPy v0.4.5.')\n"
          ]
        }
      ]
    }
  ]
}